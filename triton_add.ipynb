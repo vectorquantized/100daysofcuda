{
 "cells": [
  {
   "cell_type": "code",
   "execution_count": 1,
   "metadata": {},
   "outputs": [],
   "source": [
    "import torch\n",
    "import triton\n",
    "import triton.language as tl"
   ]
  },
  {
   "cell_type": "code",
   "execution_count": 2,
   "metadata": {},
   "outputs": [],
   "source": [
    "DEVICE = torch.device(\"cuda:0\")"
   ]
  },
  {
   "cell_type": "markdown",
   "metadata": {},
   "source": [
    "### Triton Add kernel\n",
    "We define the Triton add kernel here. The programming model of Triton allows us to operate on blocks of numbers. A triton kernel is annotated with `@triton.jit` and mostly follows a pretty intuitive flow."
   ]
  },
  {
   "cell_type": "code",
   "execution_count": 3,
   "metadata": {},
   "outputs": [],
   "source": [
    "@triton.jit\n",
    "def add_kernel(x_ptr: torch.Tensor,\n",
    "               y_ptr: torch.Tensor,\n",
    "               output_ptr: torch.Tensor,\n",
    "               num_elements: int,\n",
    "               BLOCK_SIZE: tl.constexpr,\n",
    "               ):\n",
    "    \"\"\"\n",
    "    Computes vector addition of x_ptr + y_ptr block wise.\n",
    "    \n",
    "    Args:\n",
    "        x_ptr: pointer to the first input torch tensor.\n",
    "        y_ptr: pointer to the second input torch tensor.\n",
    "        output_ptr: pointer to the output torch tensor.\n",
    "        num_elements: Number of elements in the input arrays.\n",
    "        BLOCK_SIZE: Number of elements each program should process.\n",
    "            type is constexpr, so it can be used as a shape value.\n",
    "    \"\"\"\n",
    "    pid = tl.program_id(axis=0) # get the current pid.\n",
    "    block_start = pid * BLOCK_SIZE\n",
    "    offsets = block_start + tl.arange(0, BLOCK_SIZE) # we add the block_start to the offsets within a block, to get the global offsets.\n",
    "    mask = offsets < num_elements # we only process the elements within our num_elements limit.\n",
    "    x = tl.load(x_ptr + offsets, mask=mask) # load a block of x_ptr from DRAM\n",
    "    y = tl.load(y_ptr + offsets, mask=mask) # load a block of y_ptr from DRAM\n",
    "    out = x + y\n",
    "    tl.store(output_ptr + offsets, out, mask=mask) # store the block back to DRAM."
   ]
  },
  {
   "cell_type": "markdown",
   "metadata": {},
   "source": [
    "#### Kernel Wrapper\n",
    "Now we need a kernel wrapper which will allocate the output tensor on the correct device and launch the kernel with the correct config"
   ]
  },
  {
   "cell_type": "code",
   "execution_count": 4,
   "metadata": {},
   "outputs": [],
   "source": [
    "def add(x: torch.Tensor,\n",
    "        y: torch.Tensor):\n",
    "    output = torch.empty_like(x, device=x.device)\n",
    "    assert x.shape == y.shape, f\"x and y shapes should match, got: {x.shape=} and {y.shape=}\"\n",
    "    assert x.device.type == DEVICE.type and x.device.index == DEVICE.index and \\\n",
    "       y.device.type == DEVICE.type and y.device.index == DEVICE.index and \\\n",
    "       output.device.type == DEVICE.type and output.device.index == DEVICE.index, \\\n",
    "       f\"Devices mismatch: {x.device=}, {y.device=}, {output.device=}\"\n",
    "    num_elements = output.numel()\n",
    "    # Like CUDA launch grids. It can be either Tuple[int], or Callable(metaparameters) -> Tuple[int].\n",
    "    grid = lambda meta: (triton.cdiv(num_elements, meta['BLOCK_SIZE']), )\n",
    "    # We pass meta-parameters as keywords arguments.\n",
    "    add_kernel[grid](x, y, output, num_elements, BLOCK_SIZE=1024)\n",
    "    # Note: We return a handle to z but, since `torch.cuda.synchronize()` hasn't been called, the kernel is still\n",
    "    # running asynchronously at this point.\n",
    "    return output\n",
    "    "
   ]
  },
  {
   "cell_type": "markdown",
   "metadata": {},
   "source": [
    "### Testing code"
   ]
  },
  {
   "cell_type": "code",
   "execution_count": 5,
   "metadata": {},
   "outputs": [
    {
     "name": "stdout",
     "output_type": "stream",
     "text": [
      "tensor([1.3713, 1.3076, 0.4940,  ..., 0.6724, 1.2141, 0.9733], device='cuda:0')\n",
      "tensor([1.3713, 1.3076, 0.4940,  ..., 0.6724, 1.2141, 0.9733], device='cuda:0')\n",
      "The maximum difference between torch and triton is 0.0\n"
     ]
    }
   ],
   "source": [
    "torch.manual_seed(0)\n",
    "size = 98432\n",
    "x = torch.rand(size, device=DEVICE)\n",
    "y = torch.rand(size, device=DEVICE)\n",
    "output_torch = x + y\n",
    "output_triton = add(x, y)\n",
    "print(output_torch)\n",
    "print(output_triton)\n",
    "print(f'The maximum difference between torch and triton is '\n",
    "      f'{torch.max(torch.abs(output_torch - output_triton))}')\n"
   ]
  },
  {
   "cell_type": "markdown",
   "metadata": {},
   "source": [
    "### Benchmarking\n",
    "Triton has a built set of utilities that allow us to generate perf reports and plot the performance of our custom ops."
   ]
  },
  {
   "cell_type": "code",
   "execution_count": 6,
   "metadata": {},
   "outputs": [],
   "source": [
    "@triton.testing.perf_report(\n",
    "    triton.testing.Benchmark(\n",
    "        x_names=['size'],  # Argument names to use as an x-axis for the plot.\n",
    "        x_vals=[2**i for i in range(12, 28, 1)],  # Different possible values for `x_name`.\n",
    "        x_log=True,  # x axis is logarithmic.\n",
    "        line_arg='provider',  # Argument name whose value corresponds to a different line in the plot.\n",
    "        line_vals=['triton', 'torch'],  # Possible values for `line_arg`.\n",
    "        line_names=['Triton', 'Torch'],  # Label name for the lines.\n",
    "        styles=[('blue', '-'), ('green', '-')],  # Line styles.\n",
    "        ylabel='GB/s',  # Label name for the y-axis.\n",
    "        plot_name='vector-add-performance',  # Name for the plot. Used also as a file name for saving the plot.\n",
    "        args={},  # Values for function arguments not in `x_names` and `y_name`.\n",
    "))\n",
    "def benchmark(size, provider):\n",
    "    x = torch.rand(size, device=DEVICE, dtype=torch.float32)\n",
    "    y = torch.rand(size, device=DEVICE, dtype=torch.float32)\n",
    "    quantiles = [0.5, 0.2, 0.8]\n",
    "    if provider == 'torch':\n",
    "        ms, min_ms, max_ms = triton.testing.do_bench(lambda: x + y, quantiles=quantiles)\n",
    "    if provider == 'triton':\n",
    "        ms, min_ms, max_ms = triton.testing.do_bench(lambda: add(x, y), quantiles=quantiles)\n",
    "    gbps = lambda ms: 3 * x.numel() * x.element_size() * 1e-9 / (ms * 1e-3)\n",
    "    return gbps(ms), gbps(max_ms), gbps(min_ms)"
   ]
  },
  {
   "cell_type": "markdown",
   "metadata": {},
   "source": [
    "#### Run Benchmark\n",
    "Now we run the benchmark and plot the results"
   ]
  },
  {
   "cell_type": "code",
   "execution_count": 7,
   "metadata": {},
   "outputs": [
    {
     "data": {
      "image/png": "[encoded data removed]",
      "text/plain": [
       "<Figure size 640x480 with 1 Axes>"
      ]
     },
     "metadata": {},
     "output_type": "display_data"
    },
    {
     "name": "stdout",
     "output_type": "stream",
     "text": [
      "vector-add-performance:\n",
      "           size       Triton        Torch\n",
      "0        4096.0     8.827586     8.777143\n",
      "1        8192.0    17.554286    17.454545\n",
      "2       16384.0    33.758241    34.516854\n",
      "3       32768.0    64.673682    62.375634\n",
      "4       65536.0   132.129029   130.723400\n",
      "5      131072.0   245.760006   251.416874\n",
      "6      262144.0   442.810806   431.157886\n",
      "7      524288.0   759.104267   750.412251\n",
      "8     1048576.0  1191.563601  1187.963788\n",
      "9     2097152.0  1687.622326  1669.706983\n",
      "10    4194304.0  2137.043431  2145.789924\n",
      "11    8388608.0  2526.689054  2510.557073\n",
      "12   16777216.0  2753.372505  2747.360729\n",
      "13   33554432.0  2935.817052  2939.246129\n",
      "14   67108864.0  3016.399869  3022.377330\n",
      "15  134217728.0  3060.604977  3066.198484\n"
     ]
    }
   ],
   "source": [
    "benchmark.run(print_data=True, show_plots=True)"
   ]
  },
  {
   "cell_type": "markdown",
   "metadata": {},
   "source": []
  }
 ],
 "metadata": {
  "kernelspec": {
   "display_name": "Python 3",
   "language": "python",
   "name": "python3"
  },
  "language_info": {
   "codemirror_mode": {
    "name": "ipython",
    "version": 3
   },
   "file_extension": ".py",
   "mimetype": "text/x-python",
   "name": "python",
   "nbconvert_exporter": "python",
   "pygments_lexer": "ipython3",
   "version": "3.10.12"
  }
 },
 "nbformat": 4,
 "nbformat_minor": 2
}
