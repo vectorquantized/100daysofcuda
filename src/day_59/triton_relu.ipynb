{
 "cells": [
  {
   "cell_type": "code",
   "execution_count": 1,
   "metadata": {},
   "outputs": [],
   "source": [
    "import torch\n",
    "import torch.nn.functional as F\n",
    "import triton\n",
    "import triton.language as tl\n",
    "from triton.runtime import driver"
   ]
  },
  {
   "cell_type": "code",
   "execution_count": 11,
   "metadata": {},
   "outputs": [],
   "source": [
    "DEVICE = torch.device(f\"cuda:{torch.cuda.current_device()}\")"
   ]
  },
  {
   "cell_type": "code",
   "execution_count": 13,
   "metadata": {},
   "outputs": [
    {
     "data": {
      "text/plain": [
       "{'max_shared_mem': 101376,\n",
       " 'max_num_regs': 65536,\n",
       " 'multiprocessor_count': 64,\n",
       " 'warpSize': 32,\n",
       " 'sm_clock_rate': 1695000,\n",
       " 'mem_clock_rate': 8001000,\n",
       " 'mem_bus_width': 384}"
      ]
     },
     "execution_count": 13,
     "metadata": {},
     "output_type": "execute_result"
    }
   ],
   "source": [
    "properties = driver.active.utils.get_device_properties(DEVICE.index)\n",
    "properties"
   ]
  },
  {
   "cell_type": "code",
   "execution_count": null,
   "metadata": {},
   "outputs": [],
   "source": [
    "@triton.jit\n",
    "def relu_kernel(input_ptr: torch.Tensor, output_ptr: torch.Tensor, batch_stride: int, seq_stride: int, \n",
    "                B: int, L: int, H: int, \n",
    "                BLOCK_SIZE: tl.constexpr, num_stages: tl.constexpr):\n",
    "    batch_idx = tl.program_id(0)\n",
    "    seq_idx = tl.program_id(1)\n",
    "    \n",
    "    base_idx = batch_idx * batch_stride + seq_idx * seq_stride\n",
    "    input_start_ptr = input_ptr + base_idx\n",
    "    output_start_ptr = output_ptr + base_idx\n",
    "    \n",
    "    offs = tl.arange(0, BLOCK_SIZE)\n",
    "    for k in tl.range(0, tl.cdiv(H, BLOCK_SIZE)):\n",
    "        offs_k = k * BLOCK_SIZE + offs\n",
    "        input_ptrs = input_start_ptr + offs_k\n",
    "        mask = offs_k < H\n",
    "        x = tl.load(input_ptrs, mask=mask, other=0.0)\n",
    "        out = tl.max(x, 0)\n",
    "        tl.store(output_start+ ptr + offs_k, out, mask=mask)\n",
    "\n",
    "    "
   ]
  },
  {
   "cell_type": "code",
   "execution_count": null,
   "metadata": {},
   "outputs": [],
   "source": []
  }
 ],
 "metadata": {
  "kernelspec": {
   "display_name": "cuda",
   "language": "python",
   "name": "python3"
  },
  "language_info": {
   "codemirror_mode": {
    "name": "ipython",
    "version": 3
   },
   "file_extension": ".py",
   "mimetype": "text/x-python",
   "name": "python",
   "nbconvert_exporter": "python",
   "pygments_lexer": "ipython3",
   "version": "3.10.16"
  }
 },
 "nbformat": 4,
 "nbformat_minor": 2
}
