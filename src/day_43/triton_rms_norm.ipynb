{
 "cells": [
  {
   "cell_type": "code",
   "execution_count": 1,
   "metadata": {},
   "outputs": [],
   "source": [
    "import torch\n",
    "import torch.nn.functional as F\n",
    "import triton\n",
    "import triton.language as tl\n",
    "from triton.runtime import driver\n",
    "from pprint import pprint"
   ]
  },
  {
   "cell_type": "code",
   "execution_count": 2,
   "metadata": {},
   "outputs": [],
   "source": [
    "DEVICE = torch.device(f'cuda:{torch.cuda.current_device()}')"
   ]
  },
  {
   "cell_type": "code",
   "execution_count": 3,
   "metadata": {},
   "outputs": [
    {
     "name": "stdout",
     "output_type": "stream",
     "text": [
      "(\"properties={'max_shared_mem': 101376, 'max_num_regs': 65536, \"\n",
      " \"'multiprocessor_count': 84, 'warpSize': 32, 'sm_clock_rate': 1740000, \"\n",
      " \"'mem_clock_rate': 7251000, 'mem_bus_width': 384}\")\n"
     ]
    }
   ],
   "source": [
    "properties = driver.active.utils.get_device_properties(DEVICE.index)\n",
    "pprint(f\"{properties=}\", underscore_numbers=True)\n",
    "NUM_SM = properties[\"multiprocessor_count\"]\n",
    "NUM_REGS = properties[\"max_num_regs\"]\n",
    "SIZE_SMEM = properties[\"max_shared_mem\"]\n",
    "WARP_SIZE = properties[\"warpSize\"]\n",
    "target = triton.runtime.driver.active.get_current_target()\n",
    "kernels = {}"
   ]
  },
  {
   "cell_type": "code",
   "execution_count": 4,
   "metadata": {},
   "outputs": [],
   "source": [
    "@triton.jit\n",
    "def rms_norm_kernel_2(input_ptr: torch.Tensor, output_ptr: torch.Tensor, input_row_stride: int,\n",
    "             gamma: torch.Tensor, num_rows: int, num_cols: int, \n",
    "             eps: float, BLOCK_SIZE: tl.constexpr, num_stages: tl.constexpr):  \n",
    "    row_idx = tl.program_id(0)\n",
    "    row_start_ptr = input_ptr + row_idx * input_row_stride\n",
    "    output_start_ptr = output_ptr + row_idx * input_row_stride\n",
    "    col_offsets = tl.arange(0, BLOCK_SIZE)\n",
    "    squared_x = 0.0\n",
    "    for k in tl.range(0, tl.cdiv(num_cols, BLOCK_SIZE), num_stages=num_stages):\n",
    "        offs_col = col_offsets + k * BLOCK_SIZE\n",
    "        input_ptrs = row_start_ptr + offs_col\n",
    "        mask = offs_col < num_cols\n",
    "        x = tl.load(input_ptrs, mask=mask, other=0.0)\n",
    "        squared_x += tl.sum(x * x)\n",
    "    squared_x /= num_cols\n",
    "    inv_sqrt = tl.rsqrt(eps + squared_x)\n",
    "    \n",
    "    for k in tl.range(0, tl.cdiv(num_cols, BLOCK_SIZE), num_stages=num_stages):\n",
    "        offs_col = col_offsets + k * BLOCK_SIZE\n",
    "        input_ptrs = row_start_ptr + offs_col\n",
    "        mask = offs_col < num_cols\n",
    "        inputs = tl.load(input_ptrs, mask=mask, other=0.0)\n",
    "        gammas = tl.load(gamma + offs_col, mask=mask, other=1.0)\n",
    "        out = inputs * inv_sqrt * gammas\n",
    "        out_ptrs = output_start_ptr + offs_col\n",
    "        tl.store(out_ptrs, out, mask=mask)\n",
    "        \n",
    "        \n"
   ]
  },
  {
   "cell_type": "code",
   "execution_count": 5,
   "metadata": {},
   "outputs": [],
   "source": [
    "@triton.jit\n",
    "def rms_norm_kernel(input_ptr: torch.Tensor, output_ptr: torch.Tensor, input_row_stride: int,\n",
    "             gamma: torch.Tensor, num_rows: int, num_cols: int, \n",
    "             eps: float, BLOCK_SIZE: tl.constexpr, num_stages: tl.constexpr):  \n",
    "    row_idx = tl.program_id(0)\n",
    "    row_start_ptr = input_ptr + row_idx * input_row_stride\n",
    "    output_start_ptr = output_ptr + row_idx * input_row_stride\n",
    "    col_offsets = tl.arange(0, BLOCK_SIZE)\n",
    "    \n",
    "    gamma_block_ptr = tl.make_block_ptr(\n",
    "        gamma,\n",
    "        shape=(num_cols,),\n",
    "        strides=(1,),\n",
    "        offsets=(0,),\n",
    "        block_shape=(BLOCK_SIZE,),\n",
    "        order=(0,)\n",
    "    )\n",
    "    \n",
    "    squared_x = 0.0\n",
    "    for k in tl.range(0, tl.cdiv(num_cols, BLOCK_SIZE), num_stages=num_stages):\n",
    "        offs_col = col_offsets + k * BLOCK_SIZE\n",
    "        input_ptrs = row_start_ptr + offs_col\n",
    "        mask = offs_col < num_cols\n",
    "        x = tl.load(input_ptrs, mask=mask, other=0.0)\n",
    "        squared_x += tl.sum(x * x)\n",
    "    squared_x /= num_cols\n",
    "    inv_sqrt = tl.rsqrt(eps + squared_x)\n",
    "    \n",
    "    for k in tl.range(0, tl.cdiv(num_cols, BLOCK_SIZE), num_stages=num_stages):\n",
    "        offs_col = col_offsets + k * BLOCK_SIZE\n",
    "        input_ptrs = row_start_ptr + offs_col\n",
    "        mask = offs_col < num_cols\n",
    "        inputs = tl.load(input_ptrs, mask=mask, other=0.0)\n",
    "        current_gamma_ptr = tl.advance(gamma_block_ptr, (k * BLOCK_SIZE))\n",
    "        gammas = tl.load(current_gamma_ptr)\n",
    "        out = inputs * inv_sqrt * gammas\n",
    "        out_ptrs = output_start_ptr + offs_col\n",
    "        tl.store(out_ptrs, out, mask=mask)"
   ]
  },
  {
   "cell_type": "code",
   "execution_count": 6,
   "metadata": {},
   "outputs": [],
   "source": [
    "def rms_norm(a: torch.Tensor, gamma: torch.Tensor, eps: float = 1e-6) -> torch.Tensor:\n",
    "    b = torch.zeros_like(a)\n",
    "    M, N = a.shape\n",
    "    num_stages = 8\n",
    "    BLOCK_SIZE = 1024\n",
    "    grid= (M,)\n",
    "    rms_norm_kernel[grid](a, b, a.stride(0), gamma, M, N, eps, BLOCK_SIZE=BLOCK_SIZE, num_stages=num_stages)\n",
    "    return b"
   ]
  },
  {
   "cell_type": "code",
   "execution_count": 9,
   "metadata": {},
   "outputs": [
    {
     "name": "stdout",
     "output_type": "stream",
     "text": [
      "✅ Triton and Torch match\n"
     ]
    }
   ],
   "source": [
    "torch.manual_seed(0)\n",
    "a = torch.randn((64, 512), device=DEVICE, dtype=torch.float32)\n",
    "N, D = a.shape\n",
    "gamma = torch.randn(512, device=DEVICE, dtype=torch.float32)\n",
    "beta = torch.randn(512, device=DEVICE, dtype=torch.float32)\n",
    "triton_output = rms_norm(a, gamma, eps=1e-5)\n",
    "torch_output = F.rms_norm(a, normalized_shape=(D,), weight=gamma, eps=1e-5)\n",
    "if torch.allclose(triton_output, torch_output, atol=0.125, rtol=0):\n",
    "    print(\"✅ Triton and Torch match\")\n",
    "else:\n",
    "    print(\"❌ Triton and Torch differ\")"
   ]
  },
  {
   "cell_type": "code",
   "execution_count": 11,
   "metadata": {},
   "outputs": [
    {
     "data": {
      "image/png": "[encoded data removed]",
      "text/plain": [
       "<Figure size 640x480 with 1 Axes>"
      ]
     },
     "metadata": {},
     "output_type": "display_data"
    },
    {
     "name": "stdout",
     "output_type": "stream",
     "text": [
      "matmul-performance-fp32:\n",
      "            N       torch      Triton\n",
      "0      1024.0   85.499997  146.571427\n",
      "1      2048.0  128.250000  216.000010\n",
      "2      4096.0  132.387099  273.600007\n",
      "3      8192.0  140.307688  293.142853\n",
      "4     16384.0  148.561089  273.600007\n",
      "5     32768.0  154.503527  277.063291\n",
      "6     65536.0  157.656663  277.649053\n",
      "7    131072.0  159.089037  276.334555\n",
      "8    262144.0  156.529204  276.044133\n",
      "9    524288.0  143.195307  274.206955\n",
      "10  1048576.0  141.379175  269.321719\n",
      "11  2097152.0  141.407716  263.694288\n",
      "None\n"
     ]
    }
   ],
   "source": [
    "configs = []\n",
    "ref_lib = \"torch\"\n",
    "batch_sizes = [256]\n",
    "for M in batch_sizes:\n",
    "    configs.append(\n",
    "        triton.testing.Benchmark(\n",
    "            x_names=[\"N\"],  # Argument names to use as an x-axis for the plot\n",
    "            x_vals=[2**i for i in range(10, 22)],  # Different possible values for `x_name`\n",
    "            line_arg=\"provider\",  # Argument name whose value corresponds to a different line in the plot\n",
    "            # Possible values for `line_arg`\n",
    "            # Don't compare to cublas for fp8 cases as torch.matmul doesn't support fp8 at the moment.\n",
    "            line_vals=[ref_lib.lower(), \"triton\"] , # Label name for the lines\n",
    "            line_names=[ref_lib, \"Triton\"],  # Line styles\n",
    "            styles=[(\"green\", \"-\"), (\"blue\", \"-\")],\n",
    "            ylabel=\"TFLOPS\",  # Label name for the y-axis\n",
    "            plot_name=\"matmul-performance-\" +\n",
    "            (\"fp32\"),  # Name for the plot, used also as a file name for saving the plot.\n",
    "            args={\"M\": M},\n",
    "        ))\n",
    "@triton.testing.perf_report(configs)\n",
    "def benchmark(N, provider, M):\n",
    "    a = torch.randn((M, N), device=DEVICE, dtype=torch.float32)\n",
    "    gamma = torch.randn(N, device=DEVICE, dtype=torch.float32)\n",
    "    beta = torch.randn(N, device=DEVICE, dtype=torch.float32)\n",
    "    quantiles = [0.5, 0.2, 0.8]\n",
    "    if provider == ref_lib.lower():\n",
    "        ms, min_ms, max_ms = triton.testing.do_bench(lambda: F.rms_norm(a, normalized_shape=(N,), weight=gamma, eps=1e-5), quantiles=quantiles)\n",
    "    if provider == 'triton':\n",
    "        ms, min_ms, max_ms = triton.testing.do_bench(lambda: rms_norm(a, gamma, eps=1e-5), quantiles=quantiles)\n",
    "    # Calculate memory bandwidth: bytes_accessed / runtime_in_seconds\n",
    "    # For LayerNorm, we read the input tensor once, read gamma and beta, and write to output\n",
    "    # Each float32 element is 4 bytes\n",
    "    bytes_accessed = M * N * 4 * 2 + N * 4  # Input + Output + gamma\n",
    "    gb_per_s = lambda ms: bytes_accessed * 1e-9 / (ms * 1e-3)\n",
    "    \n",
    "    return gb_per_s(ms), gb_per_s(max_ms), gb_per_s(min_ms)\n",
    "\n",
    "\n",
    "print(benchmark.run(show_plots=True, print_data=True))"
   ]
  },
  {
   "cell_type": "code",
   "execution_count": null,
   "metadata": {},
   "outputs": [],
   "source": []
  }
 ],
 "metadata": {
  "kernelspec": {
   "display_name": "cuda",
   "language": "python",
   "name": "python3"
  },
  "language_info": {
   "codemirror_mode": {
    "name": "ipython",
    "version": 3
   },
   "file_extension": ".py",
   "mimetype": "text/x-python",
   "name": "python",
   "nbconvert_exporter": "python",
   "pygments_lexer": "ipython3",
   "version": "3.10.16"
  }
 },
 "nbformat": 4,
 "nbformat_minor": 2
}
