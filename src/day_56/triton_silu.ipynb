{
 "cells": [
  {
   "cell_type": "code",
   "execution_count": 2,
   "metadata": {},
   "outputs": [],
   "source": [
    "import torch\n",
    "import torch.nn.functional as F\n",
    "import triton\n",
    "import triton.language as tl\n",
    "from triton.runtime import driver\n",
    "from pprint import pprint"
   ]
  },
  {
   "cell_type": "code",
   "execution_count": 3,
   "metadata": {},
   "outputs": [],
   "source": [
    "DEVICE = torch.device(f'cuda:{torch.cuda.current_device()}')"
   ]
  },
  {
   "cell_type": "code",
   "execution_count": 4,
   "metadata": {},
   "outputs": [
    {
     "name": "stdout",
     "output_type": "stream",
     "text": [
      "(\"properties={'max_shared_mem': 101376, 'max_num_regs': 65536, \"\n",
      " \"'multiprocessor_count': 64, 'warpSize': 32, 'sm_clock_rate': 1695000, \"\n",
      " \"'mem_clock_rate': 8001000, 'mem_bus_width': 384}\")\n"
     ]
    }
   ],
   "source": [
    "properties = driver.active.utils.get_device_properties(DEVICE.index)\n",
    "pprint(f\"{properties=}\", underscore_numbers=True)\n",
    "NUM_SM = properties[\"multiprocessor_count\"]\n",
    "NUM_REGS = properties[\"max_num_regs\"]\n",
    "SIZE_SMEM = properties[\"max_shared_mem\"]\n",
    "WARP_SIZE = properties[\"warpSize\"]\n",
    "target = triton.runtime.driver.active.get_current_target()\n",
    "kernels = {}"
   ]
  },
  {
   "cell_type": "code",
   "execution_count": 5,
   "metadata": {},
   "outputs": [],
   "source": [
    "@triton.jit\n",
    "def _silu_forward_kernel(input_ptr: torch.Tensor, output_ptr: torch.Tensor, \n",
    "         batch_stride: int, seq_stride: int, \n",
    "         L: int, H: int, BLOCK_SIZE: tl.constexpr, num_stages: tl.constexpr):\n",
    "    '''\n",
    "    Triton kernel for silu.\n",
    "    silu(x) = x * sigmoid(x)\n",
    "    x \\in R^{B x L x H}\n",
    "    Args:\n",
    "        input_ptr: Pointer to the input, shape: (B, L, H)\n",
    "        output_ptr: Pointer to output, shape: (B, L, H)\n",
    "        batch_stride: number of elements we move to reach next batch\n",
    "        seq_stride: number of elements we move to reach next sequence\n",
    "        L: Sequence Length\n",
    "        H: Embedding Dimension\n",
    "    '''\n",
    "    idx = tl.program_id(0)\n",
    "    batch_idx = idx // L\n",
    "    seq_idx = idx % L\n",
    "    base_idx = batch_idx * batch_stride + seq_idx * seq_stride \n",
    "    input_start_ptr = input_ptr + base_idx\n",
    "    output_start_ptr = output_ptr + base_idx\n",
    "    col_offsets = tl.arange(0, BLOCK_SIZE)\n",
    "    \n",
    "    for k in tl.range(0, tl.cdiv(H, BLOCK_SIZE), num_stages=num_stages):\n",
    "        offs_col = col_offsets + k * BLOCK_SIZE\n",
    "        input_ptrs = input_start_ptr + offs_col\n",
    "        mask = offs_col < H\n",
    "        x = tl.load(input_ptrs, mask=mask, other=0.0)\n",
    "        out = x * 1/(1 + tl.exp(-x))\n",
    "        tl.store(output_start_ptr + offs_col, out, mask=mask)"
   ]
  },
  {
   "cell_type": "code",
   "execution_count": null,
   "metadata": {},
   "outputs": [],
   "source": []
  },
  {
   "cell_type": "code",
   "execution_count": 6,
   "metadata": {},
   "outputs": [],
   "source": [
    "def silu(x: torch.Tensor) -> torch.Tensor:\n",
    "    B, L, H = x.shape\n",
    "    num_stages = 8\n",
    "    BLOCK_SIZE = 1024\n",
    "    grid= (B*L,)\n",
    "    output = torch.empty((B, L, H), dtype=torch.float32, device=x.device)\n",
    "    _silu_forward_kernel[grid](x, output, x.stride(0), x.stride(1), L, H, BLOCK_SIZE=BLOCK_SIZE, num_stages=num_stages)\n",
    "    return output"
   ]
  },
  {
   "cell_type": "code",
   "execution_count": 13,
   "metadata": {},
   "outputs": [],
   "source": [
    "@triton.jit\n",
    "def _silu_backward_kernel(input_ptr: torch.Tensor, dinput_ptr: torch.Tensor, \n",
    "                          batch_stride: torch.Tensor, seq_stride: torch.Tensor,\n",
    "                          L: int, H: int, BLOCK_SIZE: tl.constexpr, num_stages: tl.constexpr):\n",
    "    idx = tl.program_id(0)\n",
    "    batch_idx = idx // L\n",
    "    seq_idx = idx % L\n",
    "    base_idx = batch_idx * batch_stride + seq_idx * seq_stride\n",
    "    input_start_ptr = input_ptr + base_idx\n",
    "    \n",
    "    dinput_start_ptr = dinput_ptr + base_idx\n",
    "    cols = tl.arange(0, BLOCK_SIZE)\n",
    "    for k in tl.range(0, tl.cdiv(H, BLOCK_SIZE)):\n",
    "        col_offsets = cols + k * BLOCK_SIZE\n",
    "        mask = col_offsets < H\n",
    "        input_ptrs = input_start_ptr + col_offsets\n",
    "        x = tl.load(input_ptrs, mask=mask, other=0.0)\n",
    "        sig = tl.sigmoid(x) \n",
    "        dinput = sig + x * sig * (1 - sig)\n",
    "        tl.store(dinput_start_ptr + col_offsets, dinput, mask=mask)"
   ]
  },
  {
   "cell_type": "code",
   "execution_count": 14,
   "metadata": {},
   "outputs": [],
   "source": [
    "def silu_backward(x: torch.Tensor):\n",
    "    B, L, H = x.shape\n",
    "    num_stages = 8\n",
    "    BLOCK_SIZE = 1024\n",
    "    grid= (B*L,)\n",
    "    output = torch.empty((B, L, H), dtype=torch.float32, device=x.device)\n",
    "    _silu_backward_kernel[grid](x, output, x.stride(0), x.stride(1), L, H, BLOCK_SIZE=BLOCK_SIZE, num_stages=num_stages)\n",
    "    return output"
   ]
  },
  {
   "cell_type": "code",
   "execution_count": 15,
   "metadata": {},
   "outputs": [],
   "source": [
    "class SiLU(torch.autograd.Function):\n",
    "    @staticmethod\n",
    "    def forward(ctx, input: torch.Tensor):\n",
    "        output = silu(input)\n",
    "        ctx.save_for_backward(input)\n",
    "        return output\n",
    "    @staticmethod\n",
    "    def backward(ctx, grad_output: torch.Tensor):\n",
    "        (input, ) = ctx.saved_tensors\n",
    "        grad_input = silu_backward(input)\n",
    "        return grad_output * grad_input\n",
    "        "
   ]
  },
  {
   "cell_type": "code",
   "execution_count": 21,
   "metadata": {},
   "outputs": [],
   "source": [
    "torch.manual_seed(0)\n",
    "x_custom = torch.randn((16, 64, 2048), device='cuda', dtype=torch.float32, requires_grad=True)\n",
    "x_ref = x_custom.clone().detach().requires_grad_(True)\n",
    "\n",
    "\n",
    "# Use your custom autograd function\n",
    "y = SiLU.apply(x_custom)\n",
    "\n",
    "# Define a simple loss; here we just sum all elements.\n",
    "loss = y.sum()\n",
    "\n",
    "# Perform backward\n",
    "loss.backward()\n"
   ]
  },
  {
   "cell_type": "code",
   "execution_count": 22,
   "metadata": {},
   "outputs": [
    {
     "name": "stdout",
     "output_type": "stream",
     "text": [
      "✅ Gradients match!\n"
     ]
    }
   ],
   "source": [
    "grad_custom = x_custom.grad\n",
    "# Compute output using the reference implementation.\n",
    "y_ref = F.silu(x_ref)\n",
    "loss_ref = y_ref.sum()\n",
    "loss_ref.backward()\n",
    "grad_ref = x_ref.grad\n",
    "\n",
    "if torch.allclose(grad_custom, grad_ref, atol=1e-5, rtol=1e-4):\n",
    "    print(\"✅ Gradients match!\")\n",
    "else:\n",
    "    print(\"❌ Gradients differ!\")"
   ]
  },
  {
   "cell_type": "code",
   "execution_count": null,
   "metadata": {},
   "outputs": [
    {
     "data": {
      "image/png": "[encoded data removed]",
      "text/plain": [
       "<Figure size 640x480 with 1 Axes>"
      ]
     },
     "metadata": {},
     "output_type": "display_data"
    },
    {
     "name": "stdout",
     "output_type": "stream",
     "text": [
      "silu-backward-performance-fp32:\n",
      "            H      torch     Triton\n",
      "0      1024.0   0.050176   0.405504\n",
      "1      2048.0   0.114688   0.549888\n",
      "2      4096.0   0.196608   0.614400\n",
      "3      8192.0   0.173056   0.689152\n",
      "4     16384.0   0.287744   0.394240\n",
      "5     32768.0   0.522240   0.724992\n",
      "6     65536.0   0.982016   1.366016\n",
      "7    131072.0   1.882112   2.655232\n",
      "8    262144.0   3.728384   5.259264\n",
      "9    524288.0   7.404032  10.482688\n",
      "10  1048576.0  14.765568  20.865025\n",
      "11  2097152.0  29.499392  41.755646\n",
      "None\n"
     ]
    }
   ],
   "source": [
    "import triton.testing\n",
    "\n",
    "def benchmark_backward(H, provider, L):\n",
    "    B = 16\n",
    "    a = torch.randn((B, L, H), device=DEVICE, dtype=torch.float32, requires_grad=True)\n",
    "    quantiles = [0.5, 0.2, 0.8]\n",
    "\n",
    "    if provider == ref_lib.lower():\n",
    "        def run_backward():\n",
    "            a.grad = None  \n",
    "            y = F.silu(a)\n",
    "            loss = y.sum()\n",
    "            loss.backward()\n",
    "            torch.cuda.synchronize()\n",
    "        ms, min_ms, max_ms = triton.testing.do_bench(run_backward, quantiles=quantiles)\n",
    "    \n",
    "    elif provider == 'triton':\n",
    "        def run_backward():\n",
    "            a.grad = None  \n",
    "            y = SiLU.apply(a) \n",
    "            loss = y.sum()\n",
    "            loss.backward()\n",
    "            torch.cuda.synchronize()\n",
    "        ms, min_ms, max_ms = triton.testing.do_bench(run_backward, quantiles=quantiles)\n",
    "    \n",
    "    return ms, min_ms, max_ms\n",
    "\n",
    "configs = []\n",
    "ref_lib = \"torch\"\n",
    "seq_lengths = [32]\n",
    "for l in seq_lengths:\n",
    "    configs.append(\n",
    "        triton.testing.Benchmark(\n",
    "            x_names=[\"H\"],\n",
    "            x_vals=[2**i for i in range(10, 22)],\n",
    "            line_arg=\"provider\",\n",
    "            line_vals=[ref_lib.lower(), \"triton\"],\n",
    "            line_names=[ref_lib, \"Triton\"],\n",
    "            styles=[(\"green\", \"-\"), (\"blue\", \"-\")],\n",
    "            ylabel=\"ms (backward)\", \n",
    "            plot_name=\"silu-backward-performance-fp32\",\n",
    "            args={\"L\": l},\n",
    "        )\n",
    "    )\n",
    "\n",
    "@triton.testing.perf_report(configs)\n",
    "def benchmark(H, provider, L):\n",
    "    ms, min_ms, max_ms = benchmark_backward(H, provider, L)\n",
    "    return ms, min_ms, max_ms\n",
    "\n",
    "print(benchmark.run(show_plots=True, print_data=True))"
   ]
  },
  {
   "cell_type": "code",
   "execution_count": 23,
   "metadata": {},
   "outputs": [
    {
     "name": "stdout",
     "output_type": "stream",
     "text": [
      "✅ Triton and Torch match\n"
     ]
    }
   ],
   "source": [
    "torch.manual_seed(0)\n",
    "x = torch.randn((16, 64, 2048), device=DEVICE, dtype=torch.float32)\n",
    "B, L, H = x.shape\n",
    "\n",
    "triton_output = SiLU.apply(x)\n",
    "torch_output = F.silu(x)\n",
    "if torch.allclose(triton_output, torch_output):\n",
    "    print(\"✅ Triton and Torch match\")\n",
    "else:\n",
    "    print(\"❌ Triton and Torch differ\")"
   ]
  },
  {
   "cell_type": "code",
   "execution_count": 27,
   "metadata": {},
   "outputs": [
    {
     "data": {
      "image/png": "[encoded data removed]",
      "text/plain": [
       "<Figure size 640x480 with 1 Axes>"
      ]
     },
     "metadata": {},
     "output_type": "display_data"
    },
    {
     "name": "stdout",
     "output_type": "stream",
     "text": [
      "silu-performance-fp32:\n",
      "            H       torch      Triton\n",
      "0      1024.0  204.800005  204.800005\n",
      "1      2048.0  256.000001  256.000001\n",
      "2      4096.0  303.407407  303.407407\n",
      "3      8192.0  327.680008  327.680008\n",
      "4     16384.0  344.926305  341.333321\n",
      "5     32768.0  352.344077  348.595735\n",
      "6     65536.0  356.173905  352.344077\n",
      "7    131072.0  358.120225  354.728020\n",
      "8    262144.0  359.478367  356.173905\n",
      "9    524288.0  359.964290  356.658499\n",
      "10  1048576.0  360.583216  357.509719\n",
      "11  2097152.0  360.614225  357.022811\n",
      "None\n"
     ]
    }
   ],
   "source": [
    "configs = []\n",
    "ref_lib = \"torch\"\n",
    "seq_lengths = [32]\n",
    "for l in seq_lengths:\n",
    "    configs.append(\n",
    "        triton.testing.Benchmark(\n",
    "            x_names=[\"H\"],  # Argument names to use as an x-axis for the plot\n",
    "            x_vals=[2**i for i in range(10, 22)],  # Different possible values for `x_name`\n",
    "            line_arg=\"provider\",  # Argument name whose value corresponds to a different line in the plot\n",
    "            # Possible values for `line_arg`\n",
    "            # Don't compare to cublas for fp8 cases as torch.matmul doesn't support fp8 at the moment.\n",
    "            line_vals=[ref_lib.lower(), \"triton\"] , # Label name for the lines\n",
    "            line_names=[ref_lib, \"Triton\"],  # Line styles\n",
    "            styles=[(\"green\", \"-\"), (\"blue\", \"-\")],\n",
    "            ylabel=\"TFLOPS\",  # Label name for the y-axis\n",
    "            plot_name=\"silu-performance-\" +\n",
    "            (\"fp32\"),  # Name for the plot, used also as a file name for saving the plot.\n",
    "            args={\"L\": l},\n",
    "        ))\n",
    "@triton.testing.perf_report(configs)\n",
    "def benchmark(H, provider, L):\n",
    "    B = 16\n",
    "    a = torch.randn((B, L, H), device=DEVICE, dtype=torch.float32)\n",
    "    quantiles = [0.5, 0.2, 0.8]\n",
    "    if provider == ref_lib.lower():\n",
    "        ms, min_ms, max_ms = triton.testing.do_bench(lambda: F.silu(a), quantiles=quantiles)\n",
    "    if provider == 'triton':\n",
    "        ms, min_ms, max_ms = triton.testing.do_bench(lambda: silu(a), quantiles=quantiles)\n",
    "    # Calculate memory bandwidth: bytes_accessed / runtime_in_seconds\n",
    "    # Each float32 element is 4 bytes\n",
    "    bytes_accessed = B * L * H * 4 # Input + Output + gamma\n",
    "    gb_per_s = lambda ms: bytes_accessed * 1e-9 / (ms * 1e-3)\n",
    "    \n",
    "    return gb_per_s(ms), gb_per_s(max_ms), gb_per_s(min_ms)\n",
    "\n",
    "\n",
    "print(benchmark.run(show_plots=True, print_data=True))"
   ]
  },
  {
   "cell_type": "code",
   "execution_count": null,
   "metadata": {},
   "outputs": [],
   "source": []
  }
 ],
 "metadata": {
  "kernelspec": {
   "display_name": "cuda",
   "language": "python",
   "name": "python3"
  },
  "language_info": {
   "codemirror_mode": {
    "name": "ipython",
    "version": 3
   },
   "file_extension": ".py",
   "mimetype": "text/x-python",
   "name": "python",
   "nbconvert_exporter": "python",
   "pygments_lexer": "ipython3",
   "version": "3.10.16"
  }
 },
 "nbformat": 4,
 "nbformat_minor": 2
}
