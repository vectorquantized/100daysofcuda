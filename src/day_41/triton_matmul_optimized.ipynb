{
 "cells": [
  {
   "cell_type": "code",
   "execution_count": 4,
   "metadata": {},
   "outputs": [],
   "source": [
    "import torch\n",
    "\n",
    "import triton\n",
    "import triton.language as tl\n",
    "from triton.runtime import driver"
   ]
  },
  {
   "cell_type": "code",
   "execution_count": 5,
   "metadata": {},
   "outputs": [],
   "source": [
    "DEVICE = torch.device(f'cuda:{torch.cuda.current_device()}')"
   ]
  },
  {
   "cell_type": "code",
   "execution_count": 6,
   "metadata": {},
   "outputs": [
    {
     "data": {
      "text/plain": [
       "device(type='cuda', index=0)"
      ]
     },
     "execution_count": 6,
     "metadata": {},
     "output_type": "execute_result"
    }
   ],
   "source": [
    "DEVICE"
   ]
  },
  {
   "cell_type": "markdown",
   "metadata": {},
   "source": [
    "### Autotune Configs\n",
    "We sample different values of `BLOCK_SIZE_M`, `BLOCK_SIZE_N`, `BLOCK_SIZE_K`, `GROUP_SIZE_M` and `num_stages` and figure out the best combination that gives the best performance for the hardware"
   ]
  },
  {
   "cell_type": "code",
   "execution_count": 7,
   "metadata": {},
   "outputs": [],
   "source": [
    "def get_cuda_autotune_config():\n",
    "    return [\n",
    "        triton.Config({'BLOCK_SIZE_M': 128, 'BLOCK_SIZE_N': 256, 'BLOCK_SIZE_K': 64, 'GROUP_SIZE_M': 8}, num_stages=3,\n",
    "                      num_warps=8),\n",
    "        triton.Config({'BLOCK_SIZE_M': 64, 'BLOCK_SIZE_N': 256, 'BLOCK_SIZE_K': 32, 'GROUP_SIZE_M': 8}, num_stages=4,\n",
    "                      num_warps=4),\n",
    "        triton.Config({'BLOCK_SIZE_M': 128, 'BLOCK_SIZE_N': 128, 'BLOCK_SIZE_K': 32, 'GROUP_SIZE_M': 8}, num_stages=4,\n",
    "                      num_warps=4),\n",
    "        triton.Config({'BLOCK_SIZE_M': 128, 'BLOCK_SIZE_N': 64, 'BLOCK_SIZE_K': 32, 'GROUP_SIZE_M': 8}, num_stages=4,\n",
    "                      num_warps=4),\n",
    "        triton.Config({'BLOCK_SIZE_M': 64, 'BLOCK_SIZE_N': 128, 'BLOCK_SIZE_K': 32, 'GROUP_SIZE_M': 8}, num_stages=4,\n",
    "                      num_warps=4),\n",
    "        triton.Config({'BLOCK_SIZE_M': 128, 'BLOCK_SIZE_N': 32, 'BLOCK_SIZE_K': 32, 'GROUP_SIZE_M': 8}, num_stages=4,\n",
    "                      num_warps=4),\n",
    "        triton.Config({'BLOCK_SIZE_M': 64, 'BLOCK_SIZE_N': 32, 'BLOCK_SIZE_K': 32, 'GROUP_SIZE_M': 8}, num_stages=5,\n",
    "                      num_warps=2),\n",
    "        triton.Config({'BLOCK_SIZE_M': 32, 'BLOCK_SIZE_N': 64, 'BLOCK_SIZE_K': 32, 'GROUP_SIZE_M': 8}, num_stages=5,\n",
    "                      num_warps=2),\n",
    "        # Good config for fp8 inputs.\n",
    "        triton.Config({'BLOCK_SIZE_M': 128, 'BLOCK_SIZE_N': 256, 'BLOCK_SIZE_K': 128, 'GROUP_SIZE_M': 8}, num_stages=3,\n",
    "                      num_warps=8),\n",
    "        triton.Config({'BLOCK_SIZE_M': 256, 'BLOCK_SIZE_N': 128, 'BLOCK_SIZE_K': 128, 'GROUP_SIZE_M': 8}, num_stages=3,\n",
    "                      num_warps=8),\n",
    "        triton.Config({'BLOCK_SIZE_M': 256, 'BLOCK_SIZE_N': 64, 'BLOCK_SIZE_K': 128, 'GROUP_SIZE_M': 8}, num_stages=4,\n",
    "                      num_warps=4),\n",
    "        triton.Config({'BLOCK_SIZE_M': 64, 'BLOCK_SIZE_N': 256, 'BLOCK_SIZE_K': 128, 'GROUP_SIZE_M': 8}, num_stages=4,\n",
    "                      num_warps=4),\n",
    "        triton.Config({'BLOCK_SIZE_M': 128, 'BLOCK_SIZE_N': 128, 'BLOCK_SIZE_K': 128, 'GROUP_SIZE_M': 8}, num_stages=4,\n",
    "                      num_warps=4),\n",
    "        triton.Config({'BLOCK_SIZE_M': 128, 'BLOCK_SIZE_N': 64, 'BLOCK_SIZE_K': 64, 'GROUP_SIZE_M': 8}, num_stages=4,\n",
    "                      num_warps=4),\n",
    "        triton.Config({'BLOCK_SIZE_M': 64, 'BLOCK_SIZE_N': 128, 'BLOCK_SIZE_K': 64, 'GROUP_SIZE_M': 8}, num_stages=4,\n",
    "                      num_warps=4),\n",
    "        triton.Config({'BLOCK_SIZE_M': 128, 'BLOCK_SIZE_N': 32, 'BLOCK_SIZE_K': 64, 'GROUP_SIZE_M': 8}, num_stages=4,\n",
    "                      num_warps=4)\n",
    "    ]"
   ]
  },
  {
   "cell_type": "code",
   "execution_count": 15,
   "metadata": {},
   "outputs": [],
   "source": [
    "# `triton.jit`'ed functions can be auto-tuned by using the `triton.autotune` decorator, which consumes:\n",
    "#   - A list of `triton.Config` objects that define different configurations of\n",
    "#       meta-parameters (e.g., `BLOCK_SIZE_M`) and compilation options (e.g., `num_warps`) to try\n",
    "#   - An auto-tuning *key* whose change in values will trigger evaluation of all the\n",
    "#       provided configs\n",
    "@triton.autotune(\n",
    "    configs=get_cuda_autotune_config(),\n",
    "    key=['M', 'N', 'K'],\n",
    ")\n",
    "@triton.jit\n",
    "def matmul_kernel(a_ptr: torch.Tensor, b_ptr: torch.Tensor, c_ptr: torch.Tensor,\n",
    "                  M: int, N: int, K: int, stride_am: int, \n",
    "                  stride_ak: int, stride_bk: int, stride_bn: int,\n",
    "                  stride_cm: int, stride_cn: int,\n",
    "                  BLOCK_SIZE_M: tl.constexpr, BLOCK_SIZE_N: tl.constexpr,\n",
    "                  BLOCK_SIZE_K: tl.constexpr, GROUP_SIZE_M: tl.constexpr,\n",
    "                  ACTIVATION: tl.constexpr):\n",
    "    \"\"\"Compute C = A x B\n",
    "    Args:\n",
    "        a_ptr: A torch Tensor of shape: M x K\n",
    "        b_ptr: A torch Tensor of shape: K x N\n",
    "        c_ptr: A torch Tensor of shape: M x N \n",
    "            This is where the output will be stored.\n",
    "        M: Number of rows in A.\n",
    "        N: Number of columns in B.\n",
    "        K: Number of columns in A and rows in B.\n",
    "        stride_am: int. How much to increase a_ptr by to reach the next row.\n",
    "        atride_ak: int. How much to increase a_ptr by to reach next element.\n",
    "        BLOCK_SIZE_M: Number of rows of A in a block.\n",
    "        BLOCK_SIZE_K: Number of cols of A or rows of B in a block.\n",
    "        BLOCK_SIZE_N: Number of cols of B in a block.\n",
    "        GROUP_SIZE_M: Number of rows to process before moving on to the next column. \n",
    "            This promoted data-reuse. \n",
    "            GROUP_SIZE_M = 1 is row-major, maximum re-use of A but no re-use of B.\n",
    "            GRPUP_SIZE_M = M is col-major, maximum reuse of Bbut no re-use of A.\n",
    "            Somewhere in the middle we get optimal value for cache utilization.\n",
    "            We'll use auto-tune config for this.\n",
    "        ACTIVATION: activation to apply after matmul, fused operation.\n",
    "    \"\"\"\n",
    "    \n",
    "    pid = tl.program_id(0)\n",
    "    num_pid_m = tl.cdiv(M, BLOCK_SIZE_M) # Number of programs to process blocks of size M\n",
    "    num_pid_n = tl.cdiv(N, BLOCK_SIZE_N) # Number of programs to process blocks of size N\n",
    "    # Number of programs/threads to process a group. Each group processes a tile of size: \n",
    "    # GROUP_SIZE_M (rows) × BLOCK_SIZE_N (columns)\n",
    "    num_pid_in_group = GROUP_SIZE_M * num_pid_n\n",
    "    # pid is the program id of the current process and \n",
    "    # each group has num_pid_in_group programs\n",
    "    group_id = pid // num_pid_in_group\n",
    "    first_pid_m = group_id * GROUP_SIZE_M\n",
    "    # If BLOCK_SIZE_M is not divisible GROUP_SIZE_M\n",
    "    group_size_m = min(num_pid_m - first_pid_m, GROUP_SIZE_M)\n",
    "    pid_m = first_pid_m + ((pid % num_pid_in_group) % group_size_m)\n",
    "    pid_n = (pid % num_pid_in_group) // group_size_m\n",
    "    offs_am = (pid_m * BLOCK_SIZE_M + tl.arange(0, BLOCK_SIZE_M)) % M\n",
    "    offs_bn =  (pid_n * BLOCK_SIZE_N + tl.arange(0, BLOCK_SIZE_N)) % N\n",
    "    offs_k = tl.arange(0, BLOCK_SIZE_K)\n",
    "    accumulator = tl.zeros((BLOCK_SIZE_M, BLOCK_SIZE_N), dtype=tl.float32)\n",
    "    a_ptrs = a_ptr + offs_am[:, None] * stride_am + offs_k[None, :] * stride_ak\n",
    "    b_ptrs = b_ptr + offs_k[:, None] * stride_bk + offs_bn[None, :] * stride_bn\n",
    "    \n",
    "    for k in range(0, tl.cdiv(K, BLOCK_SIZE_K)):\n",
    "        a = tl.load(a_ptrs, mask=offs_k[None, :] < K - k * BLOCK_SIZE_K, other=0.0)\n",
    "        b = tl.load(b_ptrs, mask=offs_k[:, None] < K - k * BLOCK_SIZE_K, other=0.0)\n",
    "        accumulator = tl.dot(a, b, accumulator)\n",
    "        a_ptrs += BLOCK_SIZE_K * stride_ak\n",
    "        b_ptrs += BLOCK_SIZE_K * stride_bk\n",
    "    \n",
    "    if ACTIVATION == \"leaky_relu\":\n",
    "        accumulator = leaky_relu(accumulator)\n",
    "    c = accumulator.to(tl.float16)\n",
    "    \n",
    "    offs_cm = pid_m * BLOCK_SIZE_M + tl.arange(0, BLOCK_SIZE_M)\n",
    "    offs_cn = pid_n * BLOCK_SIZE_N + tl.arange(0, BLOCK_SIZE_N)\n",
    "    c_ptrs = c_ptr + stride_cm * offs_cm[:, None] + stride_cn * offs_cn[None, :]\n",
    "    c_mask = (offs_cm[:, None] < M) & (offs_cn[None, :] < N)\n",
    "    tl.store(c_ptrs, c, mask=c_mask)\n",
    "    \n",
    "@triton.jit\n",
    "def leaky_relu(x: torch.Tensor) -> torch.Tensor:\n",
    "    return tl.where(x >= 0, x, 0.01 * x)\n",
    "                  "
   ]
  },
  {
   "cell_type": "code",
   "execution_count": 16,
   "metadata": {},
   "outputs": [],
   "source": [
    "def matmul(a, b, activation=\"\"):\n",
    "    # Check constraints.\n",
    "    assert a.shape[1] == b.shape[0], \"Incompatible dimensions\"\n",
    "    assert a.is_contiguous(), \"Matrix A must be contiguous\"\n",
    "    M, K = a.shape\n",
    "    K, N = b.shape\n",
    "    # Allocates output.\n",
    "    c = torch.empty((M, N), device=a.device, dtype=torch.float16)\n",
    "    # 1D launch kernel where each block gets its own program.\n",
    "    grid = lambda META: (triton.cdiv(M, META['BLOCK_SIZE_M']) * triton.cdiv(N, META['BLOCK_SIZE_N']), )\n",
    "    matmul_kernel[grid](\n",
    "        a, b, c,  #\n",
    "        M, N, K, #\n",
    "        a.stride(0), a.stride(1),  #\n",
    "        b.stride(0), b.stride(1),  #\n",
    "        c.stride(0), c.stride(1),  #\n",
    "        ACTIVATION=activation  #\n",
    "    )\n",
    "    return c"
   ]
  },
  {
   "cell_type": "code",
   "execution_count": null,
   "metadata": {},
   "outputs": [
    {
     "name": "stdout",
     "output_type": "stream",
     "text": [
      "triton_output_with_fp16_inputs=tensor([[ -4.4844, -18.9844,   8.2500,  ..., -16.2344,  36.6562, -14.1406],\n",
      "        [ 27.0781, -38.7188, -24.4531,  ..., -21.7031, -26.5938,  17.4688],\n",
      "        [-13.3438,  14.1719,   7.6016,  ...,  -9.1172, -43.2500,   9.6406],\n",
      "        ...,\n",
      "        [  9.6406,   1.0146,  -9.3047,  ...,  -7.7852,  39.8438,  13.6172],\n",
      "        [-28.8594,   8.2500,  16.6719,  ..., -33.7500, -33.3125,  56.2188],\n",
      "        [ -3.8203,   0.7295,  18.9219,  ..., -33.4375,  -4.7852,  45.1562]],\n",
      "       device='cuda:0', dtype=torch.float16)\n",
      "torch_output_with_fp16_inputs=tensor([[ -4.4844, -18.9844,   8.2500,  ..., -16.2344,  36.6562, -14.1406],\n",
      "        [ 27.0781, -38.7188, -24.4531,  ..., -21.7031, -26.5938,  17.4688],\n",
      "        [-13.3438,  14.1719,   7.6016,  ...,  -9.1172, -43.2500,   9.6406],\n",
      "        ...,\n",
      "        [  9.6406,   1.0146,  -9.3047,  ...,  -7.7852,  39.8438,  13.6172],\n",
      "        [-28.8594,   8.2500,  16.6719,  ..., -33.7500, -33.3125,  56.2188],\n",
      "        [ -3.8203,   0.7295,  18.9219,  ..., -33.4375,  -4.7852,  45.1562]],\n",
      "       device='cuda:0', dtype=torch.float16)\n",
      "✅ Triton and Torch match\n"
     ]
    }
   ],
   "source": [
    "torch.manual_seed(0)\n",
    "a = torch.randn((512, 512), device=DEVICE, dtype=torch.float16)\n",
    "b = torch.randn((512, 512), device=DEVICE, dtype=torch.float16)\n",
    "triton_output = matmul(a, b)\n",
    "torch_output = torch.matmul(a, b)\n",
    "print(f\"triton_output_with_fp16_inputs={triton_output}\")\n",
    "print(f\"torch_output_with_fp16_inputs={torch_output}\")\n",
    "if torch.allclose(triton_output, torch_output, atol=1e-2):\n",
    "    print(\"✅ Triton and Torch match\")\n",
    "else:\n",
    "    print(\"❌ Triton and Torch differ\")"
   ]
  },
  {
   "cell_type": "code",
   "execution_count": 19,
   "metadata": {},
   "outputs": [
    {
     "data": {
      "image/png": "[encoded data removed]",
      "text/plain": [
       "<Figure size 640x480 with 1 Axes>"
      ]
     },
     "metadata": {},
     "output_type": "display_data"
    },
    {
     "name": "stdout",
     "output_type": "stream",
     "text": [
      "matmul-performance-fp32:\n",
      "         M       N       K     cuBLAS     Triton\n",
      "0    256.0   256.0   256.0   2.520615   3.640889\n",
      "1    384.0   384.0   384.0   6.144000  10.053818\n",
      "2    512.0   512.0   512.0   9.709037  16.384000\n",
      "3    640.0   640.0   640.0  10.666666  22.260869\n",
      "4    768.0   768.0   768.0  14.745600  34.028308\n",
      "5    896.0   896.0   896.0  14.483794  31.220622\n",
      "6   1024.0  1024.0  1024.0  16.912516  41.943041\n",
      "7   1152.0  1152.0  1152.0  19.774728  53.321142\n",
      "8   1280.0  1280.0  1280.0  18.367713  36.571428\n",
      "9   1408.0  1408.0  1408.0  19.332539  42.927368\n",
      "10  1536.0  1536.0  1536.0  22.122720  50.920059\n",
      "11  1664.0  1664.0  1664.0  17.272384  41.469642\n",
      "12  1792.0  1792.0  1792.0  19.787718  47.827336\n",
      "13  1920.0  1920.0  1920.0  21.105344  54.640315\n",
      "14  2048.0  2048.0  2048.0  21.103416  47.934905\n",
      "15  2176.0  2176.0  2176.0  21.969048  53.237164\n",
      "16  2304.0  2304.0  2304.0  24.325735  59.275115\n",
      "17  2432.0  2432.0  2432.0  20.627360  53.411530\n",
      "18  2560.0  2560.0  2560.0  22.382514  59.254971\n",
      "19  2688.0  2688.0  2688.0  22.293891  55.135256\n",
      "20  2816.0  2816.0  2816.0  24.297608  59.663761\n",
      "21  2944.0  2944.0  2944.0  21.930045  56.058528\n",
      "22  3072.0  3072.0  3072.0  23.282527  59.855291\n",
      "23  3200.0  3200.0  3200.0  23.104694  57.193922\n",
      "24  3328.0  3328.0  3328.0  22.427631  55.292853\n",
      "25  3456.0  3456.0  3456.0  22.858397  58.126582\n",
      "26  3584.0  3584.0  3584.0  23.618438  56.728955\n",
      "27  3712.0  3712.0  3712.0  22.358403  55.777411\n",
      "28  3840.0  3840.0  3840.0  23.131563  57.420561\n",
      "29  3968.0  3968.0  3968.0  22.022006  56.676233\n",
      "30  4096.0  4096.0  4096.0  23.188965  56.346654\n",
      "None\n"
     ]
    }
   ],
   "source": [
    "configs = []\n",
    "ref_lib = \"cuBLAS\"\n",
    "configs.append(\n",
    "    triton.testing.Benchmark(\n",
    "        x_names=[\"M\", \"N\", \"K\"],  # Argument names to use as an x-axis for the plot\n",
    "        x_vals=[128 * i for i in range(2, 33)],  # Different possible values for `x_name`\n",
    "        line_arg=\"provider\",  # Argument name whose value corresponds to a different line in the plot\n",
    "        # Possible values for `line_arg`\n",
    "        # Don't compare to cublas for fp8 cases as torch.matmul doesn't support fp8 at the moment.\n",
    "        line_vals=[ref_lib.lower(), \"triton\"] , # Label name for the lines\n",
    "        line_names=[ref_lib, \"Triton\"],  # Line styles\n",
    "        styles=[(\"green\", \"-\"), (\"blue\", \"-\")],\n",
    "        ylabel=\"TFLOPS\",  # Label name for the y-axis\n",
    "        plot_name=\"matmul-performance-\" +\n",
    "        (\"fp32\"),  # Name for the plot, used also as a file name for saving the plot.\n",
    "         args={},\n",
    "    ))\n",
    "\n",
    "\n",
    "@triton.testing.perf_report(configs)\n",
    "def benchmark(M, N, K, provider):\n",
    "    a = torch.randn((M, K), device=DEVICE, dtype=torch.float32)\n",
    "    b = torch.randn((K, N), device=DEVICE, dtype=torch.float32)\n",
    "    quantiles = [0.5, 0.2, 0.8]\n",
    "    if provider == ref_lib.lower():\n",
    "        ms, min_ms, max_ms = triton.testing.do_bench(lambda: torch.matmul(a, b), quantiles=quantiles)\n",
    "    if provider == 'triton':\n",
    "        ms, min_ms, max_ms = triton.testing.do_bench(lambda: matmul(a, b), quantiles=quantiles)\n",
    "    perf = lambda ms: 2 * M * N * K * 1e-12 / (ms * 1e-3)\n",
    "    return perf(ms), perf(max_ms), perf(min_ms)\n",
    "\n",
    "\n",
    "print(benchmark.run(show_plots=True, print_data=True))"
   ]
  },
  {
   "cell_type": "code",
   "execution_count": null,
   "metadata": {},
   "outputs": [],
   "source": []
  }
 ],
 "metadata": {
  "kernelspec": {
   "display_name": "cuda",
   "language": "python",
   "name": "python3"
  },
  "language_info": {
   "codemirror_mode": {
    "name": "ipython",
    "version": 3
   },
   "file_extension": ".py",
   "mimetype": "text/x-python",
   "name": "python",
   "nbconvert_exporter": "python",
   "pygments_lexer": "ipython3",
   "version": "3.10.16"
  }
 },
 "nbformat": 4,
 "nbformat_minor": 2
}
