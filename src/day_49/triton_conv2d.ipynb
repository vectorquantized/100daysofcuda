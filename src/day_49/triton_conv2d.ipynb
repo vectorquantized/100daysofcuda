{
 "cells": [
  {
   "cell_type": "code",
   "execution_count": 141,
   "metadata": {},
   "outputs": [],
   "source": [
    "import triton\n",
    "import triton.language as tl\n",
    "import torch\n",
    "import torch.nn.functional as F\n",
    "from triton.runtime import driver"
   ]
  },
  {
   "cell_type": "code",
   "execution_count": 142,
   "metadata": {},
   "outputs": [],
   "source": [
    "DEVICE = torch.device(f'cuda:{torch.cuda.current_device()}')"
   ]
  },
  {
   "cell_type": "code",
   "execution_count": 143,
   "metadata": {},
   "outputs": [],
   "source": [
    "properties = driver.active.utils.get_device_properties(DEVICE.index)"
   ]
  },
  {
   "cell_type": "code",
   "execution_count": 144,
   "metadata": {},
   "outputs": [
    {
     "data": {
      "text/plain": [
       "{'max_shared_mem': 101376,\n",
       " 'max_num_regs': 65536,\n",
       " 'multiprocessor_count': 64,\n",
       " 'warpSize': 32,\n",
       " 'sm_clock_rate': 1695000,\n",
       " 'mem_clock_rate': 8001000,\n",
       " 'mem_bus_width': 384}"
      ]
     },
     "execution_count": 144,
     "metadata": {},
     "output_type": "execute_result"
    }
   ],
   "source": [
    "properties"
   ]
  },
  {
   "cell_type": "code",
   "execution_count": null,
   "metadata": {},
   "outputs": [],
   "source": []
  },
  {
   "cell_type": "code",
   "execution_count": 244,
   "metadata": {},
   "outputs": [],
   "source": [
    "@triton.autotune(\n",
    "    configs=[\n",
    "        triton.Config({'BLOCK_SIZE': 8}, num_stages=3, num_warps=1),\n",
    "        triton.Config({'BLOCK_SIZE': 4}, num_stages=3, num_warps=1),\n",
    "        triton.Config({'BLOCK_SIZE': 16}, num_stages=3, num_warps=1),\n",
    "        triton.Config({'BLOCK_SIZE': 8}, num_stages=8, num_warps=1),\n",
    "        triton.Config({'BLOCK_SIZE': 4}, num_stages=8, num_warps=1),\n",
    "        triton.Config({'BLOCK_SIZE': 32}, num_stages=8, num_warps=1),\n",
    "    ],\n",
    "    key=['height', 'width', 'stride', 'kH', 'kW'],\n",
    ")\n",
    "@triton.jit\n",
    "def conv2d_kernel(input_ptr: torch.Tensor, kernel_ptr: torch.Tensor, output: torch.Tensor, \n",
    "           height: int, width: int,  stride: int, kH: int, kW: int, \n",
    "           max_kH: tl.constexpr, max_kW: tl.constexpr, BLOCK_SIZE: tl.constexpr, num_stages: tl.constexpr): \n",
    "    \n",
    "    tile_row = tl.program_id(0)\n",
    "    tile_col = tl.program_id(1)\n",
    "    \n",
    "    out_height = (height - kH) // stride + 1\n",
    "    out_width = (width - kW) // stride + 1\n",
    "    \n",
    "    OUT_TILE_HEIGHT = BLOCK_SIZE - kH + 1\n",
    "    OUT_TILE_WIDTH = BLOCK_SIZE - kW + 1\n",
    "    \n",
    "    out_tile_row = tile_row * OUT_TILE_HEIGHT\n",
    "    out_tile_col = tile_col * OUT_TILE_WIDTH\n",
    "    \n",
    "    kernel_row_offset = tl.arange(0, max_kH)\n",
    "    \n",
    "    kernel_col_offset = tl.arange(0, max_kW)\n",
    "\n",
    "    # Create a mask for valid kernel indices.\n",
    "    kernel_mask = (kernel_row_offset[:, None] < kH) & (kernel_col_offset[None, :] < kW)\n",
    "    # Load a full kernel block using masked load.\n",
    "    kernel_block = tl.load(\n",
    "        kernel_ptr + kernel_row_offset[:, None] * kW + kernel_col_offset[None, :],\n",
    "        mask=kernel_mask, other=0.0\n",
    "    )\n",
    "    \n",
    "    \n",
    "    for i in tl.range(0, OUT_TILE_HEIGHT, num_stages=num_stages):\n",
    "        for j in tl.range(0, OUT_TILE_WIDTH, num_stages=num_stages):\n",
    "            # acc = 0.0\n",
    "            out_row = out_tile_row + i\n",
    "            out_col = out_tile_col + j\n",
    "            if out_row < out_height and out_col < out_width:\n",
    "                input_row = out_row * stride\n",
    "                input_col = out_col * stride\n",
    "                \n",
    "                patch_ptr = input_ptr + input_row * width + input_col\n",
    "                input_patch = patch_ptr + kernel_row_offset[:, None] * width + kernel_col_offset[None, :]\n",
    "                mask = (input_row + kernel_row_offset[:, None] < height) & (input_col + kernel_col_offset[None, :] < width) & kernel_mask\n",
    "                input_block = tl.load(input_patch, mask = mask, other=0.0)\n",
    "                acc = tl.sum(input_block * kernel_block)\n",
    "                tl.store(output + out_row * out_width + out_col, acc)\n",
    "                \n",
    "                \n",
    "    "
   ]
  },
  {
   "cell_type": "code",
   "execution_count": 245,
   "metadata": {},
   "outputs": [],
   "source": [
    "def conv2d(input_tensor: torch.Tensor, kernel_tensor: torch.Tensor,\n",
    "           height: int, width: int, kH: int, kW: int, stride: int):\n",
    "    \n",
    "    out_height = (height - kH) // stride + 1\n",
    "    out_width = (width - kW) // stride + 1\n",
    "    output_tensor = torch.empty(out_height, out_width, device='cuda', dtype=torch.float32)\n",
    "    # Compute grid dimensions based on tile size.\n",
    "    OUT_TILE_HEIGHT = BLOCK_SIZE - kH + 1\n",
    "    OUT_TILE_WIDTH  = BLOCK_SIZE - kW + 1\n",
    "    num_tile_rows = (out_height + OUT_TILE_HEIGHT - 1) // OUT_TILE_HEIGHT\n",
    "    num_tile_cols = (out_width + OUT_TILE_WIDTH - 1) // OUT_TILE_WIDTH\n",
    "\n",
    "    # The grid is 2D.\n",
    "    grid = (num_tile_rows, num_tile_cols)\n",
    "    max_kH, max_kW = triton.next_power_of_2(kH), triton.next_power_of_2(kW)\n",
    "    \n",
    "    conv2d_kernel[grid](input_tensor, kernel_tensor, output_tensor,\n",
    "    height, width, stride, kH, kW, max_kH, max_kW)\n",
    "    \n",
    "    return output_tensor\n"
   ]
  },
  {
   "cell_type": "code",
   "execution_count": 246,
   "metadata": {},
   "outputs": [
    {
     "name": "stdout",
     "output_type": "stream",
     "text": [
      "✅ Triton and Torch conv2d implementations match\n"
     ]
    }
   ],
   "source": [
    "# Example dimensions and hyperparameters.\n",
    "height, width = 2048, 2048     # Input dimensions.\n",
    "kH, kW = 3, 3                # Kernel dimensions.\n",
    "stride = 1\n",
    "input_tensor = torch.randn(height, width, device='cuda', dtype=torch.float32)\n",
    "kernel_tensor = torch.randn(kH, kW, device='cuda', dtype=torch.float32)\n",
    "output_tensor = conv2d(input_tensor, kernel_tensor, height=height, width=width, kH=kH, kW=kW, stride=stride)\n",
    "torch_output = F.conv2d(input_tensor[None, None, :, :], kernel_tensor[None, None, :, :]).squeeze()\n",
    "if torch.allclose(output_tensor, torch_output, rtol=1e-5, atol=1e-5):\n",
    "    print(\"✅ Triton and Torch conv2d implementations match\")\n",
    "else:\n",
    "    print(\"❌ Triton and Torch conv2d implementations differ\")"
   ]
  },
  {
   "cell_type": "code",
   "execution_count": 247,
   "metadata": {},
   "outputs": [
    {
     "data": {
      "text/plain": [
       "tensor([[-4.1144,  1.2930, -0.5243,  ...,  1.9028,  3.2603,  5.0262],\n",
       "        [ 2.3319, -4.1622, -1.1762,  ..., -2.6686, -1.4141,  7.0003],\n",
       "        [ 4.0989,  0.8218, -3.3463,  ..., -7.7203,  1.1476, -0.9271],\n",
       "        ...,\n",
       "        [-0.5928,  3.2720, -8.5120,  ..., -1.5937,  1.4196,  2.0563],\n",
       "        [ 8.9468, -5.3558, -0.2554,  ..., -4.1323, -6.3438, -3.3221],\n",
       "        [ 6.5981, -2.8542,  4.9698,  ..., -0.0316, -0.8669,  3.9952]],\n",
       "       device='cuda:0')"
      ]
     },
     "execution_count": 247,
     "metadata": {},
     "output_type": "execute_result"
    }
   ],
   "source": [
    "output_tensor"
   ]
  },
  {
   "cell_type": "code",
   "execution_count": 248,
   "metadata": {},
   "outputs": [
    {
     "data": {
      "text/plain": [
       "tensor([[-4.1144,  1.2930, -0.5243,  ...,  1.9028,  3.2603,  5.0262],\n",
       "        [ 2.3319, -4.1622, -1.1762,  ..., -2.6686, -1.4141,  7.0003],\n",
       "        [ 4.0989,  0.8218, -3.3463,  ..., -7.7203,  1.1476, -0.9271],\n",
       "        ...,\n",
       "        [-0.5928,  3.2720, -8.5120,  ..., -1.5937,  1.4196,  2.0563],\n",
       "        [ 8.9468, -5.3558, -0.2554,  ..., -4.1323, -6.3438, -3.3221],\n",
       "        [ 6.5981, -2.8542,  4.9698,  ..., -0.0316, -0.8669,  3.9952]],\n",
       "       device='cuda:0')"
      ]
     },
     "execution_count": 248,
     "metadata": {},
     "output_type": "execute_result"
    }
   ],
   "source": [
    "torch_output"
   ]
  },
  {
   "cell_type": "code",
   "execution_count": 249,
   "metadata": {},
   "outputs": [
    {
     "data": {
      "image/png": "[encoded data removed]",
      "text/plain": [
       "<Figure size 640x480 with 1 Axes>"
      ]
     },
     "metadata": {},
     "output_type": "display_data"
    },
    {
     "name": "stdout",
     "output_type": "stream",
     "text": [
      "conv2d-performance-k3-fp32:\n",
      "     size       torch       Triton\n",
      "0   128.0   21.008463    25.210157\n",
      "1   256.0   84.675127   101.610159\n",
      "2   512.0  204.005083   340.008452\n",
      "3  1024.0  303.167586   743.277338\n",
      "4  2048.0  363.733892  1091.201720\n",
      "None\n"
     ]
    }
   ],
   "source": [
    "# Configurate the benchmarks\n",
    "configs = []\n",
    "ref_lib = \"torch\"\n",
    "kernel_sizes = [3]\n",
    "sizes = [128, 256, 512, 1024, 2048]  # Use same values for both height and width\n",
    "\n",
    "for ksz in kernel_sizes:\n",
    "    configs.append(\n",
    "        triton.testing.Benchmark(\n",
    "            x_names=[\"size\"],  # Single x-axis parameter that will be used for both height and width\n",
    "            x_vals=sizes,     # Different possible values for the size\n",
    "            line_arg=\"provider\",  # Argument name whose value corresponds to a different line in the plot\n",
    "            line_vals=[ref_lib.lower(), \"triton\"],  # Label name for the lines\n",
    "            line_names=[ref_lib, \"Triton\"],  # Line styles\n",
    "            styles=[(\"green\", \"-\"), (\"blue\", \"-\")],\n",
    "            ylabel=\"GB/s\",  # Label name for the y-axis\n",
    "            plot_name=f\"conv2d-performance-k{ksz}-fp32\",  # Name for the plot\n",
    "            args={\"kH\": ksz, \"kW\": ksz},\n",
    "        ))\n",
    "@triton.testing.perf_report(configs)\n",
    "def benchmark(size, provider, kH, kW):\n",
    "    # Use size for both height and width\n",
    "    height = size\n",
    "    width = size\n",
    "    \n",
    "    stride = 1\n",
    "    input_tensor = torch.randn(height, width, device='cuda', dtype=torch.float32)\n",
    "    kernel_tensor = torch.randn(kH, kW, device='cuda', dtype=torch.float32)\n",
    "    quantiles = [0.5, 0.2, 0.8]\n",
    "    \n",
    "    if provider == ref_lib.lower():\n",
    "        ms, min_ms, max_ms = triton.testing.do_bench(\n",
    "            lambda: F.conv2d(input_tensor[None, None, :, :], kernel_tensor[None, None, :, :]), \n",
    "            quantiles=quantiles\n",
    "        )\n",
    "    if provider == 'triton':\n",
    "        ms, min_ms, max_ms = triton.testing.do_bench(\n",
    "            lambda: conv2d(input_tensor, kernel_tensor, height=height, width=width, kH=kH, kW=kW, stride=stride),\n",
    "            quantiles=quantiles\n",
    "        )\n",
    "    \n",
    "    # Calculate memory bandwidth\n",
    "    bytes_per_element = 4  # float32\n",
    "    \n",
    "    # Input tensor size: H * W\n",
    "    input_size = height * width\n",
    "    \n",
    "    # Kernel tensor size: kH * kW\n",
    "    kernel_size = kH * kW\n",
    "    \n",
    "    # Output tensor size: (H-kH+1) * (W-kW+1)\n",
    "    out_height = (height - kH) // stride + 1\n",
    "    out_width = (width - kW) // stride + 1\n",
    "    output_size = out_height * out_width\n",
    "    \n",
    "    # Total bytes accessed\n",
    "    bytes_accessed = (input_size + kernel_size + output_size) * bytes_per_element\n",
    "    \n",
    "    # Convert to GB/s\n",
    "    gb_per_s = lambda ms: bytes_accessed * 1e-9 / (ms * 1e-3)\n",
    "    \n",
    "    return gb_per_s(ms), gb_per_s(max_ms), gb_per_s(min_ms)\n",
    "\n",
    "# Run the benchmark\n",
    "print(benchmark.run(show_plots=True, print_data=True))"
   ]
  },
  {
   "cell_type": "code",
   "execution_count": 250,
   "metadata": {},
   "outputs": [
    {
     "data": {
      "text/plain": [
       "3"
      ]
     },
     "execution_count": 250,
     "metadata": {},
     "output_type": "execute_result"
    }
   ],
   "source": [
    "conv2d_kernel.best_config.num_stages"
   ]
  },
  {
   "cell_type": "code",
   "execution_count": null,
   "metadata": {},
   "outputs": [],
   "source": []
  }
 ],
 "metadata": {
  "kernelspec": {
   "display_name": "cuda",
   "language": "python",
   "name": "python3"
  },
  "language_info": {
   "codemirror_mode": {
    "name": "ipython",
    "version": 3
   },
   "file_extension": ".py",
   "mimetype": "text/x-python",
   "name": "python",
   "nbconvert_exporter": "python",
   "pygments_lexer": "ipython3",
   "version": "3.10.16"
  }
 },
 "nbformat": 4,
 "nbformat_minor": 2
}
