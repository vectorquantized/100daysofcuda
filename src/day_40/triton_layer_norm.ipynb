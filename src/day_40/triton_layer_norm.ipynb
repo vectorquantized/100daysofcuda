{
 "cells": [
  {
   "cell_type": "code",
   "execution_count": 7,
   "metadata": {},
   "outputs": [],
   "source": [
    "import torch\n",
    "import triton\n",
    "import triton.language as tl\n",
    "from triton.runtime import driver\n",
    "from pprint import pprint, pformat\n",
    "import torch.nn.functional as F"
   ]
  },
  {
   "cell_type": "code",
   "execution_count": 3,
   "metadata": {},
   "outputs": [
    {
     "name": "stdout",
     "output_type": "stream",
     "text": [
      "(\"properties={'max_shared_mem': 101376, 'max_num_regs': 65536, \"\n",
      " \"'multiprocessor_count': 64, 'warpSize': 32, 'sm_clock_rate': 1695000, \"\n",
      " \"'mem_clock_rate': 8001000, 'mem_bus_width': 384}\")\n"
     ]
    }
   ],
   "source": [
    "DEVICE = torch.device(f'cuda:{torch.cuda.current_device()}')\n",
    "properties = driver.active.utils.get_device_properties(DEVICE.index)\n",
    "pprint(f\"{properties=}\", underscore_numbers=True)\n",
    "NUM_SM = properties[\"multiprocessor_count\"]\n",
    "NUM_REGS = properties[\"max_num_regs\"]\n",
    "SIZE_SMEM = properties[\"max_shared_mem\"]\n",
    "WARP_SIZE = properties[\"warpSize\"]\n",
    "target = triton.runtime.driver.active.get_current_target()\n",
    "kernels = {}"
   ]
  },
  {
   "cell_type": "code",
   "execution_count": 68,
   "metadata": {},
   "outputs": [],
   "source": [
    "# @triton.autotune(\n",
    "#     configs=[\n",
    "#         triton.Config({\"BLOCK_SIZE\": 64}, num_stages=2),\n",
    "#         # triton.Config({\"BLOCK_SIZE\": 128}, num_stages=3),\n",
    "#     ],\n",
    "#     key=[\"num_rows\", \"num_cols\"],\n",
    "# )\n",
    "@triton.jit\n",
    "def layernorm_kernel(input_ptr: torch.Tensor, output_ptr: torch.Tensor, \n",
    "                     gamma: torch.Tensor, beta: torch.Tensor, \n",
    "                     input_row_stride: int,\n",
    "                     num_rows: int, num_cols: int, \n",
    "                     eps: float,\n",
    "                     BLOCK_SIZE: tl.constexpr, num_stages: tl.constexpr):\n",
    "    row_idx = tl.program_id(0)\n",
    "    \n",
    "    sum_x = 0.0\n",
    "    sum_squared_x = 0.0\n",
    "    row_start_ptr = input_ptr + row_idx * input_row_stride\n",
    "    output_row_start_ptr = output_ptr + row_idx * input_row_stride\n",
    "    col_offsets = tl.arange(0, BLOCK_SIZE)\n",
    "    for col in tl.range(0, num_cols, BLOCK_SIZE, num_stages=num_stages):\n",
    "        row_ptrs = row_start_ptr + col_offsets + col\n",
    "        mask = (col_offsets + col) < num_cols\n",
    "        x = tl.load(row_ptrs, mask=mask, other=0.0)\n",
    "        sum_x += tl.sum(x)\n",
    "        sum_squared_x += tl.sum(x * x)\n",
    "    \n",
    "    mean = sum_x / num_cols\n",
    "    var = (sum_squared_x / num_cols) - (mean * mean)\n",
    "    inv_std = tl.rsqrt(var + eps)\n",
    "    \n",
    "    for col in tl.range(0, num_cols, BLOCK_SIZE, num_stages=num_stages):\n",
    "        row_ptrs = row_start_ptr + col_offsets + col\n",
    "        mask = (col_offsets + col) < num_cols\n",
    "        input_block = tl.load(row_ptrs, mask=mask, other=0.0)\n",
    "        gammas = tl.load(gamma + col_offsets + col, mask=mask, other=1.0)\n",
    "        betas = tl.load(beta + col_offsets + col, mask=mask, other=0.0)\n",
    "        norm = (input_block - mean) * inv_std\n",
    "        output = norm * gammas + betas\n",
    "        tl.store(output_row_start_ptr + col_offsets + col, output, mask=mask)\n",
    "\n",
    "        \n",
    "        "
   ]
  },
  {
   "cell_type": "code",
   "execution_count": 84,
   "metadata": {},
   "outputs": [],
   "source": [
    "def layernorm(a: torch.Tensor, gamma: torch.Tensor, beta: torch.Tensor, eps: float = 1e-6) -> torch.Tensor:\n",
    "    b = torch.zeros_like(a)\n",
    "    M, N = a.shape\n",
    "    num_stages = 8\n",
    "    BLOCK_SIZE = 1024\n",
    "    grid= (M,)\n",
    "    layernorm_kernel[grid](a, b, gamma, beta,a.stride(0), M, N, eps, BLOCK_SIZE=BLOCK_SIZE, num_stages=num_stages)\n",
    "    return b"
   ]
  },
  {
   "cell_type": "code",
   "execution_count": 85,
   "metadata": {},
   "outputs": [
    {
     "name": "stdout",
     "output_type": "stream",
     "text": [
      "✅ Triton and Torch match\n"
     ]
    }
   ],
   "source": [
    "torch.manual_seed(0)\n",
    "a = torch.randn((64, 512), device=DEVICE, dtype=torch.float32)\n",
    "N, D = a.shape\n",
    "gamma = torch.randn(512, device=DEVICE, dtype=torch.float32)\n",
    "beta = torch.randn(512, device=DEVICE, dtype=torch.float32)\n",
    "triton_output = layernorm(a, gamma, beta, eps=1e-5)\n",
    "torch_output = F.layer_norm(a, normalized_shape=(D,), weight=gamma, bias=beta, eps=1e-5)\n",
    "if torch.allclose(triton_output, torch_output, atol=0.125, rtol=0):\n",
    "    print(\"✅ Triton and Torch match\")\n",
    "else:\n",
    "    print(\"❌ Triton and Torch differ\")"
   ]
  },
  {
   "cell_type": "code",
   "execution_count": 86,
   "metadata": {},
   "outputs": [
    {
     "data": {
      "image/png": "[encoded data removed]",
      "text/plain": [
       "<Figure size 640x480 with 1 Axes>"
      ]
     },
     "metadata": {},
     "output_type": "display_data"
    },
    {
     "name": "stdout",
     "output_type": "stream",
     "text": [
      "matmul-performance-fp32:\n",
      "            N       torch      Triton\n",
      "0      1024.0  228.444436  137.066670\n",
      "1      2048.0  373.818179  205.600005\n",
      "2      4096.0  456.888873  265.290326\n",
      "3      8192.0  401.170738  310.339624\n",
      "4     16384.0  421.743604  332.282838\n",
      "5     32768.0  438.613313  332.282838\n",
      "6     65536.0  441.557048  336.531962\n",
      "7    131072.0  438.613313  338.697564\n",
      "8    262144.0  436.069596  335.887671\n",
      "9    524288.0  433.020177  329.577948\n",
      "10  1048576.0  418.183351  319.524050\n",
      "None\n"
     ]
    }
   ],
   "source": [
    "configs = []\n",
    "ref_lib = \"torch\"\n",
    "batch_sizes = [256]\n",
    "for M in batch_sizes:\n",
    "    configs.append(\n",
    "        triton.testing.Benchmark(\n",
    "            x_names=[\"N\"],  # Argument names to use as an x-axis for the plot\n",
    "            x_vals=[2**i for i in range(10, 21)],  # Different possible values for `x_name`\n",
    "            line_arg=\"provider\",  # Argument name whose value corresponds to a different line in the plot\n",
    "            # Possible values for `line_arg`\n",
    "            # Don't compare to cublas for fp8 cases as torch.matmul doesn't support fp8 at the moment.\n",
    "            line_vals=[ref_lib.lower(), \"triton\"] , # Label name for the lines\n",
    "            line_names=[ref_lib, \"Triton\"],  # Line styles\n",
    "            styles=[(\"green\", \"-\"), (\"blue\", \"-\")],\n",
    "            ylabel=\"TFLOPS\",  # Label name for the y-axis\n",
    "            plot_name=\"matmul-performance-\" +\n",
    "            (\"fp32\"),  # Name for the plot, used also as a file name for saving the plot.\n",
    "            args={\"M\": M},\n",
    "        ))\n",
    "@triton.testing.perf_report(configs)\n",
    "def benchmark(N, provider, M):\n",
    "    a = torch.randn((M, N), device=DEVICE, dtype=torch.float32)\n",
    "    gamma = torch.randn(N, device=DEVICE, dtype=torch.float32)\n",
    "    beta = torch.randn(N, device=DEVICE, dtype=torch.float32)\n",
    "    quantiles = [0.5, 0.2, 0.8]\n",
    "    if provider == ref_lib.lower():\n",
    "        ms, min_ms, max_ms = triton.testing.do_bench(lambda: F.layer_norm(a, normalized_shape=(N,), weight=gamma, bias=beta, eps=1e-5), quantiles=quantiles)\n",
    "    if provider == 'triton':\n",
    "        ms, min_ms, max_ms = triton.testing.do_bench(lambda: layernorm(a, gamma, beta, eps=1e-5), quantiles=quantiles)\n",
    "    # Calculate memory bandwidth: bytes_accessed / runtime_in_seconds\n",
    "    # For LayerNorm, we read the input tensor once, read gamma and beta, and write to output\n",
    "    # Each float32 element is 4 bytes\n",
    "    bytes_accessed = M * N * 4 * 2 + N * 4 * 2  # Input + Output + gamma + beta\n",
    "    gb_per_s = lambda ms: bytes_accessed * 1e-9 / (ms * 1e-3)\n",
    "    \n",
    "    return gb_per_s(ms), gb_per_s(max_ms), gb_per_s(min_ms)\n",
    "\n",
    "\n",
    "print(benchmark.run(show_plots=True, print_data=True))"
   ]
  },
  {
   "cell_type": "code",
   "execution_count": null,
   "metadata": {},
   "outputs": [],
   "source": [
    "    "
   ]
  }
 ],
 "metadata": {
  "kernelspec": {
   "display_name": "cuda",
   "language": "python",
   "name": "python3"
  },
  "language_info": {
   "codemirror_mode": {
    "name": "ipython",
    "version": 3
   },
   "file_extension": ".py",
   "mimetype": "text/x-python",
   "name": "python",
   "nbconvert_exporter": "python",
   "pygments_lexer": "ipython3",
   "version": "3.10.16"
  }
 },
 "nbformat": 4,
 "nbformat_minor": 2
}
