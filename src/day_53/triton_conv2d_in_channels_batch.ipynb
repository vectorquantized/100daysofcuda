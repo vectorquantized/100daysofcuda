{
 "cells": [
  {
   "cell_type": "code",
   "execution_count": 1,
   "metadata": {},
   "outputs": [],
   "source": [
    "import triton\n",
    "import triton.language as tl\n",
    "import torch\n",
    "import torch.nn.functional as F\n",
    "from triton.runtime import driver"
   ]
  },
  {
   "cell_type": "code",
   "execution_count": 2,
   "metadata": {},
   "outputs": [],
   "source": [
    "DEVICE = torch.device(f'cuda:{torch.cuda.current_device()}')"
   ]
  },
  {
   "cell_type": "code",
   "execution_count": 3,
   "metadata": {},
   "outputs": [],
   "source": [
    "properties = driver.active.utils.get_device_properties(DEVICE.index)"
   ]
  },
  {
   "cell_type": "code",
   "execution_count": 4,
   "metadata": {},
   "outputs": [
    {
     "data": {
      "text/plain": [
       "{'max_shared_mem': 101376,\n",
       " 'max_num_regs': 65536,\n",
       " 'multiprocessor_count': 64,\n",
       " 'warpSize': 32,\n",
       " 'sm_clock_rate': 1695000,\n",
       " 'mem_clock_rate': 8001000,\n",
       " 'mem_bus_width': 384}"
      ]
     },
     "execution_count": 4,
     "metadata": {},
     "output_type": "execute_result"
    }
   ],
   "source": [
    "properties"
   ]
  },
  {
   "cell_type": "code",
   "execution_count": null,
   "metadata": {},
   "outputs": [],
   "source": []
  },
  {
   "cell_type": "code",
   "execution_count": null,
   "metadata": {},
   "outputs": [],
   "source": [
    "@triton.autotune(\n",
    "    configs=[\n",
    "        triton.Config({'BLOCK_SIZE': 16}, num_stages=3, num_warps=1),\n",
    "        # triton.Config({'BLOCK_SIZE': 16}, num_stages=3, num_warps=2),\n",
    "        # triton.Config({'BLOCK_SIZE': 8}, num_stages=8, num_warps=4),\n",
    "        # triton.Config({'BLOCK_SIZE': 32}, num_stages=8, num_warps=4),\n",
    "        # triton.Config({'BLOCK_SIZE': 8}, num_stages=3, num_warps=8),\n",
    "        # triton.Config({'BLOCK_SIZE': 16}, num_stages=3, num_warps=8),\n",
    "    ],\n",
    "    key=['height', 'width', 'stride', 'kH', 'kW'],\n",
    ")\n",
    "@triton.jit\n",
    "def conv2d_kernel(input_ptr: torch.Tensor, kernel_ptr: torch.Tensor, output: torch.Tensor, \n",
    "                  in_batch_stride: int, in_channel_stride: int, out_batch_stride: int, out_channel_stride: int, \n",
    "                  in_channels: int, out_channels: int, height: int, width: int, \n",
    "                  k_out_channel_stride: int, k_in_channel_stride: int, stride: int, kH: tl.constexpr, kW: tl.constexpr, \n",
    "                  max_kH: tl.constexpr, max_kW: tl.constexpr, BLOCK_SIZE: tl.constexpr, num_stages: tl.constexpr): \n",
    "    \n",
    "    batch_idx = tl.program_id(0) // out_channels\n",
    "    out_c = tl.program_id(0) % out_channels\n",
    "    tile_row = tl.program_id(1)\n",
    "    tile_col = tl.program_id(2)\n",
    "    \n",
    "    out_height = (height - kH) // stride + 1\n",
    "    out_width = (width - kW) // stride + 1\n",
    "    \n",
    "    OUT_TILE_HEIGHT = BLOCK_SIZE - kH + 1\n",
    "    OUT_TILE_WIDTH = BLOCK_SIZE - kW + 1\n",
    "    \n",
    "    out_tile_row = tile_row * OUT_TILE_HEIGHT\n",
    "    out_tile_col = tile_col * OUT_TILE_WIDTH\n",
    "    \n",
    "    kernel_row_offset = tl.arange(0, max_kH)\n",
    "    \n",
    "    kernel_col_offset = tl.arange(0, max_kW)\n",
    "\n",
    "    # Create a mask for valid kernel indices.\n",
    "    kernel_mask = (kernel_row_offset[:, None] < kH) & (kernel_col_offset[None, :] < kW)\n",
    "    \n",
    "    # for i in tl.range(0, OUT_TILE_HEIGHT, num_stages=num_stages):\n",
    "    #     for j in tl.range(0, OUT_TILE_WIDTH, num_stages=num_stages):\n",
    "        \n",
    "    #         out_row = out_tile_row + i\n",
    "    #         out_col = out_tile_col + j\n",
    "    # Create vector of row offsets and column offsets.\n",
    "    i = tl.arange(0, OUT_TILE_HEIGHT)[:, None]  # Shape: (OUT_TILE_HEIGHT, 1)\n",
    "    j = tl.arange(0, OUT_TILE_WIDTH)[None, :]    # Shape: (1, OUT_TILE_WIDTH)\n",
    "\n",
    "    # Compute the entire tile's output indices in one go.\n",
    "    out_rows = out_tile_row + i              # Shape: (OUT_TILE_HEIGHT, 1)\n",
    "    out_cols = out_tile_col + j              # Shape: (1, OUT_TILE_WIDTH)\n",
    "    valid_mask = (out_rows < out_height) & (out_cols < out_width)\n",
    "    \n",
    "    acc = 0.0\n",
    "    input_rows = out_rows * stride\n",
    "    input_cols = out_cols * stride\n",
    "    for c in tl.range(0, in_channels, num_stages=num_stages):\n",
    "        # Load a full kernel block using masked load.\n",
    "        kernel_block = tl.load(\n",
    "            kernel_ptr + out_c * k_out_channel_stride + c * k_in_channel_stride + kernel_row_offset[:, None] * kW + kernel_col_offset[None, :],\n",
    "            mask=kernel_mask, other=0.0\n",
    "        )\n",
    "        patch_ptr = input_ptr + batch_idx * in_batch_stride + c * in_channel_stride + input_rows * width + input_cols\n",
    "        input_patch = patch_ptr + kernel_row_offset[:, None] * width + kernel_col_offset[None, :]\n",
    "        mask = (input_rows + kernel_row_offset[:, None] < height) & (input_cols + kernel_col_offset[None, :] < width) & kernel_mask\n",
    "        input_block = tl.load(input_patch, mask = mask, other=0.0)\n",
    "        \n",
    "        acc += tl.sum(input_block * kernel_block, axis=[0, 1])\n",
    "    tl.store(output + batch_idx * out_batch_stride + out_c * out_channel_stride + out_row * out_width + out_col, acc, mask=valid_mask)\n",
    "                        \n",
    "                    \n",
    "        "
   ]
  },
  {
   "cell_type": "code",
   "execution_count": 35,
   "metadata": {},
   "outputs": [],
   "source": [
    "def conv2d(input_tensor: torch.Tensor, kernel_tensor: torch.Tensor,\n",
    "           num_batch: int, in_channels: int, out_channels: int, height: int, width: int, stride: int):\n",
    "    \n",
    "    kH, kW = 3,3\n",
    "    out_height = (height - kH) // stride + 1\n",
    "    out_width = (width - kW) // stride + 1\n",
    "    output_tensor = torch.empty(num_batch, out_channels, out_height, out_width, device='cuda', dtype=torch.float32)\n",
    "    \n",
    "    def grid_fn(meta):\n",
    "        # Extract the BLOCK_SIZE from the current configuration\n",
    "        block_size = meta['BLOCK_SIZE']\n",
    "        \n",
    "        out_tile_height = block_size - kH + 1\n",
    "        out_tile_width = block_size - kW + 1\n",
    "        \n",
    "        # Ensure tiles are at least 1x1\n",
    "        out_tile_height = max(1, out_tile_height)\n",
    "        out_tile_width = max(1, out_tile_width)\n",
    "        \n",
    "        num_tile_rows = (out_height + out_tile_height - 1) // out_tile_height\n",
    "        num_tile_cols = (out_width + out_tile_width - 1) // out_tile_width\n",
    "        \n",
    "        return (num_batch * out_channels, num_tile_rows, num_tile_cols)\n",
    "\n",
    "    # The grid is 2D.\n",
    "    grid = grid_fn\n",
    "    max_kH, max_kW = triton.next_power_of_2(kH), triton.next_power_of_2(kW)\n",
    "    \n",
    "    conv2d_kernel[grid](input_tensor, kernel_tensor, output_tensor,\n",
    "                        input_tensor.stride(0), input_tensor.stride(1), output_tensor.stride(0), output_tensor.stride(1), \n",
    "                        in_channels, out_channels, height, width,\n",
    "                        kernel_tensor.stride(0), kernel_tensor.stride(1), stride, kH, kW, max_kH, max_kW)\n",
    "    \n",
    "    \n",
    "    return output_tensor\n"
   ]
  },
  {
   "cell_type": "code",
   "execution_count": 37,
   "metadata": {},
   "outputs": [
    {
     "ename": "CompilationError",
     "evalue": "at 34:8:\n    kernel_col_offset = tl.arange(0, max_kW)\n\n    # Create a mask for valid kernel indices.\n    kernel_mask = (kernel_row_offset[:, None] < kH) & (kernel_col_offset[None, :] < kW)\n\n    # for i in tl.range(0, OUT_TILE_HEIGHT, num_stages=num_stages):\n    #     for j in tl.range(0, OUT_TILE_WIDTH, num_stages=num_stages):\n\n    #         out_row = out_tile_row + i\n    #         out_col = out_tile_col + j\n    # Create vector of row offsets and column offsets.\n    i = tl.arange(0, OUT_TILE_HEIGHT)[:, None]  # Shape: (OUT_TILE_HEIGHT, 1)\n        ^",
     "output_type": "error",
     "traceback": [
      "\u001b[0;31m---------------------------------------------------------------------------\u001b[0m",
      "\u001b[0;31mValueError\u001b[0m                                Traceback (most recent call last)",
      "File \u001b[0;32m~/miniconda3/envs/cuda/lib/python3.10/site-packages/triton/language/core.py:35\u001b[0m, in \u001b[0;36mbuiltin.<locals>.wrapper\u001b[0;34m(*args, **kwargs)\u001b[0m\n\u001b[1;32m     33\u001b[0m     \u001b[38;5;28;01mraise\u001b[39;00m \u001b[38;5;167;01mValueError\u001b[39;00m(\u001b[38;5;124m\"\u001b[39m\u001b[38;5;124mDid you forget to add @triton.jit ? \u001b[39m\u001b[38;5;124m\"\u001b[39m\n\u001b[1;32m     34\u001b[0m                      \u001b[38;5;124m\"\u001b[39m\u001b[38;5;124m(`_builder` argument must be provided outside of JIT functions.)\u001b[39m\u001b[38;5;124m\"\u001b[39m)\n\u001b[0;32m---> 35\u001b[0m \u001b[38;5;28;01mreturn\u001b[39;00m \u001b[43mfn\u001b[49m\u001b[43m(\u001b[49m\u001b[38;5;241;43m*\u001b[39;49m\u001b[43margs\u001b[49m\u001b[43m,\u001b[49m\u001b[43m \u001b[49m\u001b[38;5;241;43m*\u001b[39;49m\u001b[38;5;241;43m*\u001b[39;49m\u001b[43mkwargs\u001b[49m\u001b[43m)\u001b[49m\n",
      "File \u001b[0;32m~/miniconda3/envs/cuda/lib/python3.10/site-packages/triton/language/core.py:1192\u001b[0m, in \u001b[0;36marange\u001b[0;34m(start, end, _builder)\u001b[0m\n\u001b[1;32m   1191\u001b[0m end \u001b[38;5;241m=\u001b[39m _constexpr_to_value(end)\n\u001b[0;32m-> 1192\u001b[0m \u001b[38;5;28;01mreturn\u001b[39;00m \u001b[43msemantic\u001b[49m\u001b[38;5;241;43m.\u001b[39;49m\u001b[43marange\u001b[49m\u001b[43m(\u001b[49m\u001b[43mstart\u001b[49m\u001b[43m,\u001b[49m\u001b[43m \u001b[49m\u001b[43mend\u001b[49m\u001b[43m,\u001b[49m\u001b[43m \u001b[49m\u001b[43m_builder\u001b[49m\u001b[43m)\u001b[49m\n",
      "File \u001b[0;32m~/miniconda3/envs/cuda/lib/python3.10/site-packages/triton/language/semantic.py:503\u001b[0m, in \u001b[0;36marange\u001b[0;34m(start, end, builder)\u001b[0m\n\u001b[1;32m    502\u001b[0m \u001b[38;5;28;01mif\u001b[39;00m \u001b[38;5;129;01mnot\u001b[39;00m \u001b[38;5;28misinstance\u001b[39m(start, \u001b[38;5;28mint\u001b[39m) \u001b[38;5;129;01mor\u001b[39;00m \u001b[38;5;129;01mnot\u001b[39;00m \u001b[38;5;28misinstance\u001b[39m(end, \u001b[38;5;28mint\u001b[39m):\n\u001b[0;32m--> 503\u001b[0m     \u001b[38;5;28;01mraise\u001b[39;00m \u001b[38;5;167;01mValueError\u001b[39;00m(\u001b[38;5;124m\"\u001b[39m\u001b[38;5;124marange\u001b[39m\u001b[38;5;124m'\u001b[39m\u001b[38;5;124ms arguments must be of type tl.constexpr\u001b[39m\u001b[38;5;124m\"\u001b[39m)\n\u001b[1;32m    504\u001b[0m is_start_int64 \u001b[38;5;241m=\u001b[39m \u001b[38;5;28mbool\u001b[39m(start \u001b[38;5;241m>>\u001b[39m \u001b[38;5;241m32\u001b[39m)\n",
      "\u001b[0;31mValueError\u001b[0m: arange's arguments must be of type tl.constexpr",
      "\nThe above exception was the direct cause of the following exception:\n",
      "\u001b[0;31mCompilationError\u001b[0m                          Traceback (most recent call last)",
      "Cell \u001b[0;32mIn[37], line 7\u001b[0m\n\u001b[1;32m      5\u001b[0m input_tensor \u001b[38;5;241m=\u001b[39m torch\u001b[38;5;241m.\u001b[39mrandn(num_batch, in_channels, height, width, device\u001b[38;5;241m=\u001b[39m\u001b[38;5;124m'\u001b[39m\u001b[38;5;124mcuda\u001b[39m\u001b[38;5;124m'\u001b[39m, dtype\u001b[38;5;241m=\u001b[39mtorch\u001b[38;5;241m.\u001b[39mfloat32)\n\u001b[1;32m      6\u001b[0m kernel_tensor \u001b[38;5;241m=\u001b[39m torch\u001b[38;5;241m.\u001b[39mrandn(out_channels, in_channels, kH, kW, device\u001b[38;5;241m=\u001b[39m\u001b[38;5;124m'\u001b[39m\u001b[38;5;124mcuda\u001b[39m\u001b[38;5;124m'\u001b[39m, dtype\u001b[38;5;241m=\u001b[39mtorch\u001b[38;5;241m.\u001b[39mfloat32)\n\u001b[0;32m----> 7\u001b[0m output_tensor \u001b[38;5;241m=\u001b[39m \u001b[43mconv2d\u001b[49m\u001b[43m(\u001b[49m\u001b[43minput_tensor\u001b[49m\u001b[43m,\u001b[49m\u001b[43m \u001b[49m\u001b[43mkernel_tensor\u001b[49m\u001b[43m,\u001b[49m\u001b[43m \u001b[49m\u001b[43mnum_batch\u001b[49m\u001b[38;5;241;43m=\u001b[39;49m\u001b[43mnum_batch\u001b[49m\u001b[43m,\u001b[49m\u001b[43m \u001b[49m\n\u001b[1;32m      8\u001b[0m \u001b[43m                       \u001b[49m\u001b[43min_channels\u001b[49m\u001b[38;5;241;43m=\u001b[39;49m\u001b[43min_channels\u001b[49m\u001b[43m,\u001b[49m\u001b[43m \u001b[49m\u001b[43mout_channels\u001b[49m\u001b[38;5;241;43m=\u001b[39;49m\u001b[43mout_channels\u001b[49m\u001b[43m,\u001b[49m\u001b[43m \u001b[49m\n\u001b[1;32m      9\u001b[0m \u001b[43m                       \u001b[49m\u001b[43mheight\u001b[49m\u001b[38;5;241;43m=\u001b[39;49m\u001b[43mheight\u001b[49m\u001b[43m,\u001b[49m\u001b[43m \u001b[49m\u001b[43mwidth\u001b[49m\u001b[38;5;241;43m=\u001b[39;49m\u001b[43mwidth\u001b[49m\u001b[43m,\u001b[49m\u001b[43m \u001b[49m\u001b[43mstride\u001b[49m\u001b[38;5;241;43m=\u001b[39;49m\u001b[43mstride\u001b[49m\u001b[43m)\u001b[49m\n\u001b[1;32m     10\u001b[0m torch_output \u001b[38;5;241m=\u001b[39m F\u001b[38;5;241m.\u001b[39mconv2d(input_tensor, kernel_tensor)\u001b[38;5;241m.\u001b[39msqueeze()\n\u001b[1;32m     11\u001b[0m \u001b[38;5;28;01mif\u001b[39;00m torch\u001b[38;5;241m.\u001b[39mallclose(output_tensor, torch_output, rtol\u001b[38;5;241m=\u001b[39m\u001b[38;5;241m1e-3\u001b[39m, atol\u001b[38;5;241m=\u001b[39m\u001b[38;5;241m1e-3\u001b[39m):\n",
      "Cell \u001b[0;32mIn[35], line 29\u001b[0m, in \u001b[0;36mconv2d\u001b[0;34m(input_tensor, kernel_tensor, num_batch, in_channels, out_channels, height, width, stride)\u001b[0m\n\u001b[1;32m     26\u001b[0m grid \u001b[38;5;241m=\u001b[39m grid_fn\n\u001b[1;32m     27\u001b[0m max_kH, max_kW \u001b[38;5;241m=\u001b[39m triton\u001b[38;5;241m.\u001b[39mnext_power_of_2(kH), triton\u001b[38;5;241m.\u001b[39mnext_power_of_2(kW)\n\u001b[0;32m---> 29\u001b[0m \u001b[43mconv2d_kernel\u001b[49m\u001b[43m[\u001b[49m\u001b[43mgrid\u001b[49m\u001b[43m]\u001b[49m\u001b[43m(\u001b[49m\u001b[43minput_tensor\u001b[49m\u001b[43m,\u001b[49m\u001b[43m \u001b[49m\u001b[43mkernel_tensor\u001b[49m\u001b[43m,\u001b[49m\u001b[43m \u001b[49m\u001b[43moutput_tensor\u001b[49m\u001b[43m,\u001b[49m\n\u001b[1;32m     30\u001b[0m \u001b[43m                    \u001b[49m\u001b[43minput_tensor\u001b[49m\u001b[38;5;241;43m.\u001b[39;49m\u001b[43mstride\u001b[49m\u001b[43m(\u001b[49m\u001b[38;5;241;43m0\u001b[39;49m\u001b[43m)\u001b[49m\u001b[43m,\u001b[49m\u001b[43m \u001b[49m\u001b[43minput_tensor\u001b[49m\u001b[38;5;241;43m.\u001b[39;49m\u001b[43mstride\u001b[49m\u001b[43m(\u001b[49m\u001b[38;5;241;43m1\u001b[39;49m\u001b[43m)\u001b[49m\u001b[43m,\u001b[49m\u001b[43m \u001b[49m\u001b[43moutput_tensor\u001b[49m\u001b[38;5;241;43m.\u001b[39;49m\u001b[43mstride\u001b[49m\u001b[43m(\u001b[49m\u001b[38;5;241;43m0\u001b[39;49m\u001b[43m)\u001b[49m\u001b[43m,\u001b[49m\u001b[43m \u001b[49m\u001b[43moutput_tensor\u001b[49m\u001b[38;5;241;43m.\u001b[39;49m\u001b[43mstride\u001b[49m\u001b[43m(\u001b[49m\u001b[38;5;241;43m1\u001b[39;49m\u001b[43m)\u001b[49m\u001b[43m,\u001b[49m\u001b[43m \u001b[49m\n\u001b[1;32m     31\u001b[0m \u001b[43m                    \u001b[49m\u001b[43min_channels\u001b[49m\u001b[43m,\u001b[49m\u001b[43m \u001b[49m\u001b[43mout_channels\u001b[49m\u001b[43m,\u001b[49m\u001b[43m \u001b[49m\u001b[43mheight\u001b[49m\u001b[43m,\u001b[49m\u001b[43m \u001b[49m\u001b[43mwidth\u001b[49m\u001b[43m,\u001b[49m\n\u001b[1;32m     32\u001b[0m \u001b[43m                    \u001b[49m\u001b[43mkernel_tensor\u001b[49m\u001b[38;5;241;43m.\u001b[39;49m\u001b[43mstride\u001b[49m\u001b[43m(\u001b[49m\u001b[38;5;241;43m0\u001b[39;49m\u001b[43m)\u001b[49m\u001b[43m,\u001b[49m\u001b[43m \u001b[49m\u001b[43mkernel_tensor\u001b[49m\u001b[38;5;241;43m.\u001b[39;49m\u001b[43mstride\u001b[49m\u001b[43m(\u001b[49m\u001b[38;5;241;43m1\u001b[39;49m\u001b[43m)\u001b[49m\u001b[43m,\u001b[49m\u001b[43m \u001b[49m\u001b[43mstride\u001b[49m\u001b[43m,\u001b[49m\u001b[43m \u001b[49m\u001b[43mkH\u001b[49m\u001b[43m,\u001b[49m\u001b[43m \u001b[49m\u001b[43mkW\u001b[49m\u001b[43m,\u001b[49m\u001b[43m \u001b[49m\u001b[43mmax_kH\u001b[49m\u001b[43m,\u001b[49m\u001b[43m \u001b[49m\u001b[43mmax_kW\u001b[49m\u001b[43m)\u001b[49m\n\u001b[1;32m     35\u001b[0m \u001b[38;5;28;01mreturn\u001b[39;00m output_tensor\n",
      "File \u001b[0;32m~/miniconda3/envs/cuda/lib/python3.10/site-packages/triton/runtime/jit.py:345\u001b[0m, in \u001b[0;36mKernelInterface.__getitem__.<locals>.<lambda>\u001b[0;34m(*args, **kwargs)\u001b[0m\n\u001b[1;32m    339\u001b[0m \u001b[38;5;28;01mdef\u001b[39;00m\u001b[38;5;250m \u001b[39m\u001b[38;5;21m__getitem__\u001b[39m(\u001b[38;5;28mself\u001b[39m, grid) \u001b[38;5;241m-\u001b[39m\u001b[38;5;241m>\u001b[39m T:\n\u001b[1;32m    340\u001b[0m \u001b[38;5;250m    \u001b[39m\u001b[38;5;124;03m\"\"\"\u001b[39;00m\n\u001b[1;32m    341\u001b[0m \u001b[38;5;124;03m    A JIT function is launched with: fn[grid](*args, **kwargs).\u001b[39;00m\n\u001b[1;32m    342\u001b[0m \u001b[38;5;124;03m    Hence JITFunction.__getitem__ returns a callable proxy that\u001b[39;00m\n\u001b[1;32m    343\u001b[0m \u001b[38;5;124;03m    memorizes the grid.\u001b[39;00m\n\u001b[1;32m    344\u001b[0m \u001b[38;5;124;03m    \"\"\"\u001b[39;00m\n\u001b[0;32m--> 345\u001b[0m     \u001b[38;5;28;01mreturn\u001b[39;00m \u001b[38;5;28;01mlambda\u001b[39;00m \u001b[38;5;241m*\u001b[39margs, \u001b[38;5;241m*\u001b[39m\u001b[38;5;241m*\u001b[39mkwargs: \u001b[38;5;28;43mself\u001b[39;49m\u001b[38;5;241;43m.\u001b[39;49m\u001b[43mrun\u001b[49m\u001b[43m(\u001b[49m\u001b[43mgrid\u001b[49m\u001b[38;5;241;43m=\u001b[39;49m\u001b[43mgrid\u001b[49m\u001b[43m,\u001b[49m\u001b[43m \u001b[49m\u001b[43mwarmup\u001b[49m\u001b[38;5;241;43m=\u001b[39;49m\u001b[38;5;28;43;01mFalse\u001b[39;49;00m\u001b[43m,\u001b[49m\u001b[43m \u001b[49m\u001b[38;5;241;43m*\u001b[39;49m\u001b[43margs\u001b[49m\u001b[43m,\u001b[49m\u001b[43m \u001b[49m\u001b[38;5;241;43m*\u001b[39;49m\u001b[38;5;241;43m*\u001b[39;49m\u001b[43mkwargs\u001b[49m\u001b[43m)\u001b[49m\n",
      "File \u001b[0;32m~/miniconda3/envs/cuda/lib/python3.10/site-packages/triton/runtime/autotuner.py:171\u001b[0m, in \u001b[0;36mAutotuner.run\u001b[0;34m(self, *args, **kwargs)\u001b[0m\n\u001b[1;32m    169\u001b[0m \u001b[38;5;28;01mif\u001b[39;00m config\u001b[38;5;241m.\u001b[39mpre_hook \u001b[38;5;129;01mis\u001b[39;00m \u001b[38;5;129;01mnot\u001b[39;00m \u001b[38;5;28;01mNone\u001b[39;00m:\n\u001b[1;32m    170\u001b[0m     config\u001b[38;5;241m.\u001b[39mpre_hook({\u001b[38;5;241m*\u001b[39m\u001b[38;5;241m*\u001b[39m\u001b[38;5;28mself\u001b[39m\u001b[38;5;241m.\u001b[39mnargs, \u001b[38;5;241m*\u001b[39m\u001b[38;5;241m*\u001b[39mkwargs, \u001b[38;5;241m*\u001b[39m\u001b[38;5;241m*\u001b[39mconfig\u001b[38;5;241m.\u001b[39mall_kwargs()})\n\u001b[0;32m--> 171\u001b[0m ret \u001b[38;5;241m=\u001b[39m \u001b[38;5;28;43mself\u001b[39;49m\u001b[38;5;241;43m.\u001b[39;49m\u001b[43mfn\u001b[49m\u001b[38;5;241;43m.\u001b[39;49m\u001b[43mrun\u001b[49m\u001b[43m(\u001b[49m\n\u001b[1;32m    172\u001b[0m \u001b[43m    \u001b[49m\u001b[38;5;241;43m*\u001b[39;49m\u001b[43margs\u001b[49m\u001b[43m,\u001b[49m\n\u001b[1;32m    173\u001b[0m \u001b[43m    \u001b[49m\u001b[38;5;241;43m*\u001b[39;49m\u001b[38;5;241;43m*\u001b[39;49m\u001b[43mkwargs\u001b[49m\u001b[43m,\u001b[49m\n\u001b[1;32m    174\u001b[0m \u001b[43m    \u001b[49m\u001b[38;5;241;43m*\u001b[39;49m\u001b[38;5;241;43m*\u001b[39;49m\u001b[43mconfig\u001b[49m\u001b[38;5;241;43m.\u001b[39;49m\u001b[43mall_kwargs\u001b[49m\u001b[43m(\u001b[49m\u001b[43m)\u001b[49m\u001b[43m,\u001b[49m\n\u001b[1;32m    175\u001b[0m \u001b[43m\u001b[49m\u001b[43m)\u001b[49m\n\u001b[1;32m    176\u001b[0m \u001b[38;5;28mself\u001b[39m\u001b[38;5;241m.\u001b[39mnargs \u001b[38;5;241m=\u001b[39m \u001b[38;5;28;01mNone\u001b[39;00m\n\u001b[1;32m    177\u001b[0m \u001b[38;5;28;01mreturn\u001b[39;00m ret\n",
      "File \u001b[0;32m~/miniconda3/envs/cuda/lib/python3.10/site-packages/triton/runtime/jit.py:662\u001b[0m, in \u001b[0;36mJITFunction.run\u001b[0;34m(self, grid, warmup, *args, **kwargs)\u001b[0m\n\u001b[1;32m    660\u001b[0m     \u001b[38;5;66;03m# compile the kernel\u001b[39;00m\n\u001b[1;32m    661\u001b[0m     src \u001b[38;5;241m=\u001b[39m \u001b[38;5;28mself\u001b[39m\u001b[38;5;241m.\u001b[39mASTSource(\u001b[38;5;28mself\u001b[39m, signature, constants, configs[\u001b[38;5;241m0\u001b[39m])\n\u001b[0;32m--> 662\u001b[0m     kernel \u001b[38;5;241m=\u001b[39m \u001b[38;5;28;43mself\u001b[39;49m\u001b[38;5;241;43m.\u001b[39;49m\u001b[43mcompile\u001b[49m\u001b[43m(\u001b[49m\n\u001b[1;32m    663\u001b[0m \u001b[43m        \u001b[49m\u001b[43msrc\u001b[49m\u001b[43m,\u001b[49m\n\u001b[1;32m    664\u001b[0m \u001b[43m        \u001b[49m\u001b[43mtarget\u001b[49m\u001b[38;5;241;43m=\u001b[39;49m\u001b[43mtarget\u001b[49m\u001b[43m,\u001b[49m\n\u001b[1;32m    665\u001b[0m \u001b[43m        \u001b[49m\u001b[43moptions\u001b[49m\u001b[38;5;241;43m=\u001b[39;49m\u001b[43moptions\u001b[49m\u001b[38;5;241;43m.\u001b[39;49m\u001b[38;5;18;43m__dict__\u001b[39;49m\u001b[43m,\u001b[49m\n\u001b[1;32m    666\u001b[0m \u001b[43m    \u001b[49m\u001b[43m)\u001b[49m\n\u001b[1;32m    667\u001b[0m     \u001b[38;5;28mself\u001b[39m\u001b[38;5;241m.\u001b[39mcache[device][key] \u001b[38;5;241m=\u001b[39m kernel\n\u001b[1;32m    669\u001b[0m \u001b[38;5;66;03m# Check that used global values have not changed.\u001b[39;00m\n",
      "File \u001b[0;32m~/miniconda3/envs/cuda/lib/python3.10/site-packages/triton/compiler/compiler.py:276\u001b[0m, in \u001b[0;36mcompile\u001b[0;34m(src, target, options)\u001b[0m\n\u001b[1;32m    274\u001b[0m codegen_fns \u001b[38;5;241m=\u001b[39m backend\u001b[38;5;241m.\u001b[39mget_codegen_implementation()\n\u001b[1;32m    275\u001b[0m \u001b[38;5;28;01mtry\u001b[39;00m:\n\u001b[0;32m--> 276\u001b[0m     module \u001b[38;5;241m=\u001b[39m \u001b[43msrc\u001b[49m\u001b[38;5;241;43m.\u001b[39;49m\u001b[43mmake_ir\u001b[49m\u001b[43m(\u001b[49m\u001b[43moptions\u001b[49m\u001b[43m,\u001b[49m\u001b[43m \u001b[49m\u001b[43mcodegen_fns\u001b[49m\u001b[43m,\u001b[49m\u001b[43m \u001b[49m\u001b[43mcontext\u001b[49m\u001b[43m)\u001b[49m\n\u001b[1;32m    277\u001b[0m \u001b[38;5;28;01mexcept\u001b[39;00m \u001b[38;5;167;01mException\u001b[39;00m \u001b[38;5;28;01mas\u001b[39;00m e:\n\u001b[1;32m    278\u001b[0m     filter_traceback(e)\n",
      "File \u001b[0;32m~/miniconda3/envs/cuda/lib/python3.10/site-packages/triton/compiler/compiler.py:113\u001b[0m, in \u001b[0;36mASTSource.make_ir\u001b[0;34m(self, options, codegen_fns, context)\u001b[0m\n\u001b[1;32m    112\u001b[0m \u001b[38;5;28;01mdef\u001b[39;00m\u001b[38;5;250m \u001b[39m\u001b[38;5;21mmake_ir\u001b[39m(\u001b[38;5;28mself\u001b[39m, options, codegen_fns, context):\n\u001b[0;32m--> 113\u001b[0m     \u001b[38;5;28;01mreturn\u001b[39;00m \u001b[43mast_to_ttir\u001b[49m\u001b[43m(\u001b[49m\u001b[38;5;28;43mself\u001b[39;49m\u001b[38;5;241;43m.\u001b[39;49m\u001b[43mfn\u001b[49m\u001b[43m,\u001b[49m\u001b[43m \u001b[49m\u001b[38;5;28;43mself\u001b[39;49m\u001b[43m,\u001b[49m\u001b[43m \u001b[49m\u001b[43mcontext\u001b[49m\u001b[38;5;241;43m=\u001b[39;49m\u001b[43mcontext\u001b[49m\u001b[43m,\u001b[49m\u001b[43m \u001b[49m\u001b[43moptions\u001b[49m\u001b[38;5;241;43m=\u001b[39;49m\u001b[43moptions\u001b[49m\u001b[43m,\u001b[49m\u001b[43m \u001b[49m\u001b[43mcodegen_fns\u001b[49m\u001b[38;5;241;43m=\u001b[39;49m\u001b[43mcodegen_fns\u001b[49m\u001b[43m)\u001b[49m\n",
      "\u001b[0;31mCompilationError\u001b[0m: at 34:8:\n    kernel_col_offset = tl.arange(0, max_kW)\n\n    # Create a mask for valid kernel indices.\n    kernel_mask = (kernel_row_offset[:, None] < kH) & (kernel_col_offset[None, :] < kW)\n\n    # for i in tl.range(0, OUT_TILE_HEIGHT, num_stages=num_stages):\n    #     for j in tl.range(0, OUT_TILE_WIDTH, num_stages=num_stages):\n\n    #         out_row = out_tile_row + i\n    #         out_col = out_tile_col + j\n    # Create vector of row offsets and column offsets.\n    i = tl.arange(0, OUT_TILE_HEIGHT)[:, None]  # Shape: (OUT_TILE_HEIGHT, 1)\n        ^"
     ]
    }
   ],
   "source": [
    "# Example dimensions and hyperparameters.\n",
    "num_batch, in_channels, height, width = 16, 2, 1024, 1024     # Input dimensions.\n",
    "out_channels, kH, kW = 16, 3, 3                # Kernel dimensions.\n",
    "stride = 1\n",
    "input_tensor = torch.randn(num_batch, in_channels, height, width, device='cuda', dtype=torch.float32)\n",
    "kernel_tensor = torch.randn(out_channels, in_channels, kH, kW, device='cuda', dtype=torch.float32)\n",
    "output_tensor = conv2d(input_tensor, kernel_tensor, num_batch=num_batch, \n",
    "                       in_channels=in_channels, out_channels=out_channels, \n",
    "                       height=height, width=width, stride=stride)\n",
    "torch_output = F.conv2d(input_tensor, kernel_tensor).squeeze()\n",
    "if torch.allclose(output_tensor, torch_output, rtol=1e-3, atol=1e-3):\n",
    "    print(\"✅ Triton and Torch conv2d implementations match\")\n",
    "else:\n",
    "    print(\"❌ Triton and Torch conv2d implementations differ\")"
   ]
  },
  {
   "cell_type": "code",
   "execution_count": 27,
   "metadata": {},
   "outputs": [
    {
     "data": {
      "text/plain": [
       "({'BLOCK_SIZE': 16}, 3, 1)"
      ]
     },
     "execution_count": 27,
     "metadata": {},
     "output_type": "execute_result"
    }
   ],
   "source": [
    "conv2d_kernel.best_config.kwargs, conv2d_kernel.best_config.num_stages, conv2d_kernel.best_config.num_warps"
   ]
  },
  {
   "cell_type": "code",
   "execution_count": 28,
   "metadata": {},
   "outputs": [
    {
     "name": "stdout",
     "output_type": "stream",
     "text": [
      "GPU: NVIDIA RTX A5000\n",
      "Total memory: 25.31 GB\n",
      "Available memory: 4.56 GB\n"
     ]
    }
   ],
   "source": [
    "torch.cuda.empty_cache()\n",
    "print(f\"GPU: {torch.cuda.get_device_name()}\")\n",
    "print(f\"Total memory: {torch.cuda.get_device_properties(0).total_memory / 1e9:.2f} GB\")\n",
    "print(f\"Available memory: {torch.cuda.memory_reserved(0) / 1e9:.2f} GB\")"
   ]
  },
  {
   "cell_type": "code",
   "execution_count": 30,
   "metadata": {},
   "outputs": [
    {
     "data": {
      "image/png": "[encoded data removed]",
      "text/plain": [
       "<Figure size 640x480 with 1 Axes>"
      ]
     },
     "metadata": {},
     "output_type": "display_data"
    },
    {
     "name": "stdout",
     "output_type": "stream",
     "text": [
      "conv2d-performance-k3-fp32:\n",
      "     size      torch    Triton\n",
      "0   128.0   9.742091  0.309273\n",
      "1   256.0  15.835745  0.332176\n",
      "2   512.0  17.689421  0.334574\n",
      "3  1024.0  17.091556  0.335216\n",
      "None\n"
     ]
    }
   ],
   "source": [
    "# Configurate the benchmarks\n",
    "configs = []\n",
    "ref_lib = \"torch\"\n",
    "kernel_sizes = [3]\n",
    "sizes = [128, 256, 512, 1024]  # Use same values for both height and width\n",
    "batch_size = 4\n",
    "out_channels = 8\n",
    "for ksz in kernel_sizes:\n",
    "    configs.append(\n",
    "        triton.testing.Benchmark(\n",
    "            x_names=[\"size\"],  # Single x-axis parameter that will be used for both height and width\n",
    "            x_vals=sizes,     # Different possible values for the size\n",
    "            line_arg=\"provider\",  # Argument name whose value corresponds to a different line in the plot\n",
    "            line_vals=[ref_lib.lower(), \"triton\"],  # Label name for the lines\n",
    "            line_names=[ref_lib, \"Triton\"],  # Line styles\n",
    "            styles=[(\"green\", \"-\"), (\"blue\", \"-\")],\n",
    "            ylabel=\"TFLOPS\",  # Changed to TFLOPS (teraFLOPS)\n",
    "            plot_name=f\"conv2d-performance-k{ksz}-fp32\",  # Name for the plot\n",
    "            args={\"kH\": ksz, \"kW\": ksz, \"batch_size\": batch_size, \"out_channels\": out_channels},\n",
    "        ))\n",
    "\n",
    "@triton.testing.perf_report(configs)\n",
    "def benchmark(size, provider, kH, kW, batch_size, out_channels):\n",
    "    # Use size for both height and width\n",
    "    \n",
    "    height = size\n",
    "    width = size\n",
    "    in_channels = 3\n",
    "    stride = 1\n",
    "    input_tensor = torch.randn(batch_size, in_channels, height, width, device='cuda', dtype=torch.float32)\n",
    "    kernel_tensor = torch.randn(out_channels, in_channels, kH, kW, device='cuda', dtype=torch.float32)\n",
    "    quantiles = [0.5, 0.2, 0.8]\n",
    "    \n",
    "    if provider == ref_lib.lower():\n",
    "        ms, min_ms, max_ms = triton.testing.do_bench(\n",
    "            lambda: F.conv2d(input_tensor, kernel_tensor), \n",
    "            quantiles=quantiles\n",
    "        )\n",
    "    if provider == 'triton':\n",
    "        ms, min_ms, max_ms = triton.testing.do_bench(\n",
    "            lambda: conv2d(input_tensor, kernel_tensor, num_batch=batch_size, in_channels=in_channels, out_channels=out_channels, \n",
    "                           height=height, width=width, kH=kH, kW=kW, stride=stride),\n",
    "            quantiles=quantiles\n",
    "        )\n",
    "        \n",
    "    \n",
    "    # Calculate both FLOPS and memory bandwidth\n",
    "    \n",
    "    # Output dimensions\n",
    "    out_height = (height - kH) // stride + 1\n",
    "    out_width = (width - kW) // stride + 1\n",
    "    \n",
    "    \n",
    "    # Calculate FLOPS\n",
    "    # For each output element, we do:\n",
    "    # - channels * kH * kW multiplications\n",
    "    # - (channels * kH * kW - 1) additions\n",
    "    # Total ops per output element: ~2 * channels * kH * kW (multiply-add)\n",
    "    ops_per_output_element = 2 * out_channels * in_channels * kH * kW\n",
    "    total_output_elements = batch_size * out_channels * out_height * out_width\n",
    "    total_flops = ops_per_output_element * total_output_elements\n",
    "    \n",
    "    # Convert to TFLOPS (tera FLOPS)\n",
    "    tflops = lambda ms: total_flops * 1e-12 / (ms * 1e-3)\n",
    "    \n",
    "    # Calculate memory bandwidth (for reference)\n",
    "    bytes_per_element = 4  # float32\n",
    "    input_size = batch_size * in_channels * height * width\n",
    "    kernel_size = out_channels * in_channels * kH * kW\n",
    "    output_size = batch_size * out_channels * out_height * out_width\n",
    "    bytes_accessed = (input_size + kernel_size + output_size) * bytes_per_element\n",
    "    gb_per_s = lambda ms: bytes_accessed * 1e-9 / (ms * 1e-3)\n",
    "    \n",
    "    # Create a dual-metric benchmark result\n",
    "    # Primary metric: TFLOPS\n",
    "    result = tflops(ms), tflops(max_ms), tflops(min_ms)\n",
    "    \n",
    "    # Print memory bandwidth for reference\n",
    "    bandwidth = gb_per_s(ms)\n",
    "    # print(f\"Size: {size}, Provider: {provider}, TFLOPS: {result[0]:.2f}, Memory BW: {bandwidth:.2f} GB/s\")\n",
    "    \n",
    "    # Compute arithmetic intensity (FLOPS/byte)\n",
    "    arithmetic_intensity = total_flops / bytes_accessed\n",
    "    # print(f\"  Arithmetic Intensity: {arithmetic_intensity:.2f} FLOPS/byte\")\n",
    "    \n",
    "    return result\n",
    "\n",
    "# Run the benchmark\n",
    "print(benchmark.run(show_plots=True, print_data=True))"
   ]
  },
  {
   "cell_type": "code",
   "execution_count": null,
   "metadata": {},
   "outputs": [
    {
     "data": {
      "text/plain": [
       "{'BLOCK_SIZE': 2}"
      ]
     },
     "execution_count": 64,
     "metadata": {},
     "output_type": "execute_result"
    }
   ],
   "source": []
  },
  {
   "cell_type": "code",
   "execution_count": null,
   "metadata": {},
   "outputs": [],
   "source": []
  }
 ],
 "metadata": {
  "kernelspec": {
   "display_name": "cuda",
   "language": "python",
   "name": "python3"
  },
  "language_info": {
   "codemirror_mode": {
    "name": "ipython",
    "version": 3
   },
   "file_extension": ".py",
   "mimetype": "text/x-python",
   "name": "python",
   "nbconvert_exporter": "python",
   "pygments_lexer": "ipython3",
   "version": "3.10.16"
  }
 },
 "nbformat": 4,
 "nbformat_minor": 2
}
